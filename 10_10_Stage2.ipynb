{
  "nbformat": 4,
  "nbformat_minor": 0,
  "metadata": {
    "colab": {
      "provenance": [],
      "toc_visible": true
    },
    "kernelspec": {
      "name": "python3",
      "display_name": "Python 3"
    },
    "language_info": {
      "name": "python"
    }
  },
  "cells": [
    {
      "cell_type": "markdown",
      "source": [
        "# **Source Code Python Homework Final Project - Stage 2**\n",
        "\n",
        "Kelompok 10/10: \n",
        "\n",
        "1. Herline Yastriska\n",
        "2. Danu Prasetyo\n",
        "3. Radisha Fanni Sianti\n",
        "4. Innaufa Qonita Zurraya\n",
        "5. Mutia Febriana Azzahra\n",
        "6. Indah Nurcahyani\n",
        "\n"
      ],
      "metadata": {
        "id": "Gei9_KxMf9pZ"
      }
    },
    {
      "cell_type": "code",
      "source": [
        "# Import package yang dibutuhkan\n",
        "import numpy as np\n",
        "import pandas as pd\n",
        "import plotly.express as px\n",
        "import scipy.stats as scp\n",
        "import matplotlib.pyplot as plt\n",
        "import seaborn as sns\n",
        "from matplotlib import rcParams\n",
        "from google.colab import files\n",
        "import io\n",
        "import csv"
      ],
      "metadata": {
        "id": "8KKOldNVgN_y"
      },
      "execution_count": null,
      "outputs": []
    },
    {
      "cell_type": "code",
      "source": [
        "import warnings\n",
        "warnings.filterwarnings('ignore')"
      ],
      "metadata": {
        "id": "cxl40SRy5UnV"
      },
      "execution_count": null,
      "outputs": []
    },
    {
      "cell_type": "code",
      "source": [
        "from google.colab import drive\n",
        "drive.mount('/content/drive')"
      ],
      "metadata": {
        "id": "MsBPQK_RQzp4",
        "colab": {
          "base_uri": "https://localhost:8080/"
        },
        "outputId": "4efd1a50-c6b4-4197-c912-b29cf207c2a4"
      },
      "execution_count": null,
      "outputs": [
        {
          "output_type": "stream",
          "name": "stdout",
          "text": [
            "Drive already mounted at /content/drive; to attempt to forcibly remount, call drive.mount(\"/content/drive\", force_remount=True).\n"
          ]
        }
      ]
    },
    {
      "cell_type": "code",
      "source": [
        "# Mengupload file\n",
        "uploaded = files.upload()"
      ],
      "metadata": {
        "id": "O_H1sRiyjpV8",
        "colab": {
          "base_uri": "https://localhost:8080/",
          "height": 38
        },
        "outputId": "105a2b0e-7c35-45f0-a743-537a80d11018"
      },
      "execution_count": null,
      "outputs": [
        {
          "output_type": "display_data",
          "data": {
            "text/plain": [
              "<IPython.core.display.HTML object>"
            ],
            "text/html": [
              "\n",
              "     <input type=\"file\" id=\"files-6a2bbbfe-29d5-4a78-a836-75b90a89d4a1\" name=\"files[]\" multiple disabled\n",
              "        style=\"border:none\" />\n",
              "     <output id=\"result-6a2bbbfe-29d5-4a78-a836-75b90a89d4a1\">\n",
              "      Upload widget is only available when the cell has been executed in the\n",
              "      current browser session. Please rerun this cell to enable.\n",
              "      </output>\n",
              "      <script>// Copyright 2017 Google LLC\n",
              "//\n",
              "// Licensed under the Apache License, Version 2.0 (the \"License\");\n",
              "// you may not use this file except in compliance with the License.\n",
              "// You may obtain a copy of the License at\n",
              "//\n",
              "//      http://www.apache.org/licenses/LICENSE-2.0\n",
              "//\n",
              "// Unless required by applicable law or agreed to in writing, software\n",
              "// distributed under the License is distributed on an \"AS IS\" BASIS,\n",
              "// WITHOUT WARRANTIES OR CONDITIONS OF ANY KIND, either express or implied.\n",
              "// See the License for the specific language governing permissions and\n",
              "// limitations under the License.\n",
              "\n",
              "/**\n",
              " * @fileoverview Helpers for google.colab Python module.\n",
              " */\n",
              "(function(scope) {\n",
              "function span(text, styleAttributes = {}) {\n",
              "  const element = document.createElement('span');\n",
              "  element.textContent = text;\n",
              "  for (const key of Object.keys(styleAttributes)) {\n",
              "    element.style[key] = styleAttributes[key];\n",
              "  }\n",
              "  return element;\n",
              "}\n",
              "\n",
              "// Max number of bytes which will be uploaded at a time.\n",
              "const MAX_PAYLOAD_SIZE = 100 * 1024;\n",
              "\n",
              "function _uploadFiles(inputId, outputId) {\n",
              "  const steps = uploadFilesStep(inputId, outputId);\n",
              "  const outputElement = document.getElementById(outputId);\n",
              "  // Cache steps on the outputElement to make it available for the next call\n",
              "  // to uploadFilesContinue from Python.\n",
              "  outputElement.steps = steps;\n",
              "\n",
              "  return _uploadFilesContinue(outputId);\n",
              "}\n",
              "\n",
              "// This is roughly an async generator (not supported in the browser yet),\n",
              "// where there are multiple asynchronous steps and the Python side is going\n",
              "// to poll for completion of each step.\n",
              "// This uses a Promise to block the python side on completion of each step,\n",
              "// then passes the result of the previous step as the input to the next step.\n",
              "function _uploadFilesContinue(outputId) {\n",
              "  const outputElement = document.getElementById(outputId);\n",
              "  const steps = outputElement.steps;\n",
              "\n",
              "  const next = steps.next(outputElement.lastPromiseValue);\n",
              "  return Promise.resolve(next.value.promise).then((value) => {\n",
              "    // Cache the last promise value to make it available to the next\n",
              "    // step of the generator.\n",
              "    outputElement.lastPromiseValue = value;\n",
              "    return next.value.response;\n",
              "  });\n",
              "}\n",
              "\n",
              "/**\n",
              " * Generator function which is called between each async step of the upload\n",
              " * process.\n",
              " * @param {string} inputId Element ID of the input file picker element.\n",
              " * @param {string} outputId Element ID of the output display.\n",
              " * @return {!Iterable<!Object>} Iterable of next steps.\n",
              " */\n",
              "function* uploadFilesStep(inputId, outputId) {\n",
              "  const inputElement = document.getElementById(inputId);\n",
              "  inputElement.disabled = false;\n",
              "\n",
              "  const outputElement = document.getElementById(outputId);\n",
              "  outputElement.innerHTML = '';\n",
              "\n",
              "  const pickedPromise = new Promise((resolve) => {\n",
              "    inputElement.addEventListener('change', (e) => {\n",
              "      resolve(e.target.files);\n",
              "    });\n",
              "  });\n",
              "\n",
              "  const cancel = document.createElement('button');\n",
              "  inputElement.parentElement.appendChild(cancel);\n",
              "  cancel.textContent = 'Cancel upload';\n",
              "  const cancelPromise = new Promise((resolve) => {\n",
              "    cancel.onclick = () => {\n",
              "      resolve(null);\n",
              "    };\n",
              "  });\n",
              "\n",
              "  // Wait for the user to pick the files.\n",
              "  const files = yield {\n",
              "    promise: Promise.race([pickedPromise, cancelPromise]),\n",
              "    response: {\n",
              "      action: 'starting',\n",
              "    }\n",
              "  };\n",
              "\n",
              "  cancel.remove();\n",
              "\n",
              "  // Disable the input element since further picks are not allowed.\n",
              "  inputElement.disabled = true;\n",
              "\n",
              "  if (!files) {\n",
              "    return {\n",
              "      response: {\n",
              "        action: 'complete',\n",
              "      }\n",
              "    };\n",
              "  }\n",
              "\n",
              "  for (const file of files) {\n",
              "    const li = document.createElement('li');\n",
              "    li.append(span(file.name, {fontWeight: 'bold'}));\n",
              "    li.append(span(\n",
              "        `(${file.type || 'n/a'}) - ${file.size} bytes, ` +\n",
              "        `last modified: ${\n",
              "            file.lastModifiedDate ? file.lastModifiedDate.toLocaleDateString() :\n",
              "                                    'n/a'} - `));\n",
              "    const percent = span('0% done');\n",
              "    li.appendChild(percent);\n",
              "\n",
              "    outputElement.appendChild(li);\n",
              "\n",
              "    const fileDataPromise = new Promise((resolve) => {\n",
              "      const reader = new FileReader();\n",
              "      reader.onload = (e) => {\n",
              "        resolve(e.target.result);\n",
              "      };\n",
              "      reader.readAsArrayBuffer(file);\n",
              "    });\n",
              "    // Wait for the data to be ready.\n",
              "    let fileData = yield {\n",
              "      promise: fileDataPromise,\n",
              "      response: {\n",
              "        action: 'continue',\n",
              "      }\n",
              "    };\n",
              "\n",
              "    // Use a chunked sending to avoid message size limits. See b/62115660.\n",
              "    let position = 0;\n",
              "    do {\n",
              "      const length = Math.min(fileData.byteLength - position, MAX_PAYLOAD_SIZE);\n",
              "      const chunk = new Uint8Array(fileData, position, length);\n",
              "      position += length;\n",
              "\n",
              "      const base64 = btoa(String.fromCharCode.apply(null, chunk));\n",
              "      yield {\n",
              "        response: {\n",
              "          action: 'append',\n",
              "          file: file.name,\n",
              "          data: base64,\n",
              "        },\n",
              "      };\n",
              "\n",
              "      let percentDone = fileData.byteLength === 0 ?\n",
              "          100 :\n",
              "          Math.round((position / fileData.byteLength) * 100);\n",
              "      percent.textContent = `${percentDone}% done`;\n",
              "\n",
              "    } while (position < fileData.byteLength);\n",
              "  }\n",
              "\n",
              "  // All done.\n",
              "  yield {\n",
              "    response: {\n",
              "      action: 'complete',\n",
              "    }\n",
              "  };\n",
              "}\n",
              "\n",
              "scope.google = scope.google || {};\n",
              "scope.google.colab = scope.google.colab || {};\n",
              "scope.google.colab._files = {\n",
              "  _uploadFiles,\n",
              "  _uploadFilesContinue,\n",
              "};\n",
              "})(self);\n",
              "</script> "
            ]
          },
          "metadata": {}
        }
      ]
    },
    {
      "cell_type": "code",
      "source": [
        "# Membaca dataset yang digunakan yaitu SBAnational.csv\n",
        "df = pd.read_csv('/content/drive/MyDrive/SBAnational.csv', error_bad_lines=False, warn_bad_lines=True)\n",
        "# df = pd.read_csv('SBAnational.csv', delimiter = \";\")\n",
        "df.info()"
      ],
      "metadata": {
        "colab": {
          "base_uri": "https://localhost:8080/"
        },
        "id": "yk016aA0TGRe",
        "outputId": "3e6a9f75-d791-4c2e-9c40-61ddf2c1a926"
      },
      "execution_count": null,
      "outputs": [
        {
          "output_type": "stream",
          "name": "stderr",
          "text": [
            "<ipython-input-65-0bc0e1ca0b9b>:2: FutureWarning: The error_bad_lines argument has been deprecated and will be removed in a future version. Use on_bad_lines in the future.\n",
            "\n",
            "\n",
            "  df = pd.read_csv('/content/drive/MyDrive/SBAnational.csv', error_bad_lines=False, warn_bad_lines=True)\n",
            "<ipython-input-65-0bc0e1ca0b9b>:2: FutureWarning: The warn_bad_lines argument has been deprecated and will be removed in a future version. Use on_bad_lines in the future.\n",
            "\n",
            "\n",
            "  df = pd.read_csv('/content/drive/MyDrive/SBAnational.csv', error_bad_lines=False, warn_bad_lines=True)\n"
          ]
        },
        {
          "output_type": "stream",
          "name": "stdout",
          "text": [
            "<class 'pandas.core.frame.DataFrame'>\n",
            "RangeIndex: 15569 entries, 0 to 15568\n",
            "Data columns (total 27 columns):\n",
            " #   Column             Non-Null Count  Dtype  \n",
            "---  ------             --------------  -----  \n",
            " 0   LoanNr_ChkDgt      15569 non-null  int64  \n",
            " 1   Name               15565 non-null  object \n",
            " 2   City               15569 non-null  object \n",
            " 3   State              15568 non-null  object \n",
            " 4   Zip                15568 non-null  float64\n",
            " 5   Bank               15557 non-null  object \n",
            " 6   BankState          15557 non-null  object \n",
            " 7   NAICS              15568 non-null  float64\n",
            " 8   ApprovalDate       15568 non-null  object \n",
            " 9   ApprovalFY         15568 non-null  float64\n",
            " 10  Term               15568 non-null  float64\n",
            " 11  NoEmp              15568 non-null  float64\n",
            " 12  NewExist           15568 non-null  float64\n",
            " 13  CreateJob          15568 non-null  float64\n",
            " 14  RetainedJob        15568 non-null  float64\n",
            " 15  FranchiseCode      15568 non-null  float64\n",
            " 16  UrbanRural         15568 non-null  float64\n",
            " 17  RevLineCr          15566 non-null  object \n",
            " 18  LowDoc             15568 non-null  object \n",
            " 19  ChgOffDate         3181 non-null   object \n",
            " 20  DisbursementDate   15543 non-null  object \n",
            " 21  DisbursementGross  15568 non-null  object \n",
            " 22  BalanceGross       15568 non-null  object \n",
            " 23  MIS_Status         15538 non-null  object \n",
            " 24  ChgOffPrinGr       15568 non-null  object \n",
            " 25  GrAppv             15568 non-null  object \n",
            " 26  SBA_Appv           15568 non-null  object \n",
            "dtypes: float64(10), int64(1), object(16)\n",
            "memory usage: 3.2+ MB\n"
          ]
        }
      ]
    },
    {
      "cell_type": "code",
      "source": [
        "# Mengubah tipe data menjadi object\n",
        "df[['LoanNr_ChkDgt', 'Zip', 'NAICS','NewExist','UrbanRural','FranchiseCode']] = df[['LoanNr_ChkDgt', 'Zip', 'NAICS','NewExist','UrbanRural','FranchiseCode']].astype('object')\n",
        "\n",
        "# Mengubah tipe data menjadi datetime\n",
        "df['ApprovalDate'] = pd.to_datetime(df['ApprovalDate'])\n",
        "df['DisbursementDate'] = pd.to_datetime(df['DisbursementDate'])\n",
        "df['ChgOffDate'] = pd.to_datetime(df['ChgOffDate'])\n",
        "\n",
        "# Mengubah tipe data data menjadi float\n",
        "df['DisbursementGross'] = df['DisbursementGross'].str.replace('[^\\d\\.]', '').astype(float)\n",
        "df['BalanceGross'] = df['BalanceGross'].str.replace('[^\\d\\.]', '').astype(float)\n",
        "df['ChgOffPrinGr'] = df['ChgOffPrinGr'].str.replace('[^\\d\\.]', '').astype(float)\n",
        "df['GrAppv'] = df['GrAppv'].str.replace('[^\\d\\.]', '').astype(float)\n",
        "df['SBA_Appv'] = df['SBA_Appv'].str.replace('[^\\d\\.]', '').astype(float)"
      ],
      "metadata": {
        "id": "Zg7D0Xdl176O",
        "colab": {
          "base_uri": "https://localhost:8080/"
        },
        "outputId": "7b1e9e20-5426-4423-db09-c8305fbcdc7e"
      },
      "execution_count": null,
      "outputs": [
        {
          "output_type": "stream",
          "name": "stderr",
          "text": [
            "<ipython-input-5-e5d0c11a3713>:10: FutureWarning: The default value of regex will change from True to False in a future version.\n",
            "  df['DisbursementGross'] = df['DisbursementGross'].str.replace('[^\\d\\.]', '').astype(float)\n",
            "<ipython-input-5-e5d0c11a3713>:11: FutureWarning: The default value of regex will change from True to False in a future version.\n",
            "  df['BalanceGross'] = df['BalanceGross'].str.replace('[^\\d\\.]', '').astype(float)\n",
            "<ipython-input-5-e5d0c11a3713>:12: FutureWarning: The default value of regex will change from True to False in a future version.\n",
            "  df['ChgOffPrinGr'] = df['ChgOffPrinGr'].str.replace('[^\\d\\.]', '').astype(float)\n",
            "<ipython-input-5-e5d0c11a3713>:13: FutureWarning: The default value of regex will change from True to False in a future version.\n",
            "  df['GrAppv'] = df['GrAppv'].str.replace('[^\\d\\.]', '').astype(float)\n",
            "<ipython-input-5-e5d0c11a3713>:14: FutureWarning: The default value of regex will change from True to False in a future version.\n",
            "  df['SBA_Appv'] = df['SBA_Appv'].str.replace('[^\\d\\.]', '').astype(float)\n"
          ]
        }
      ]
    },
    {
      "cell_type": "code",
      "source": [
        "df.info()"
      ],
      "metadata": {
        "colab": {
          "base_uri": "https://localhost:8080/"
        },
        "id": "s8FbOWoR2CbW",
        "outputId": "1bdf5505-7312-4821-a0de-7352c2de3860"
      },
      "execution_count": null,
      "outputs": [
        {
          "output_type": "stream",
          "name": "stdout",
          "text": [
            "<class 'pandas.core.frame.DataFrame'>\n",
            "RangeIndex: 15569 entries, 0 to 15568\n",
            "Data columns (total 27 columns):\n",
            " #   Column             Non-Null Count  Dtype         \n",
            "---  ------             --------------  -----         \n",
            " 0   LoanNr_ChkDgt      15569 non-null  object        \n",
            " 1   Name               15565 non-null  object        \n",
            " 2   City               15569 non-null  object        \n",
            " 3   State              15568 non-null  object        \n",
            " 4   Zip                15568 non-null  object        \n",
            " 5   Bank               15557 non-null  object        \n",
            " 6   BankState          15557 non-null  object        \n",
            " 7   NAICS              15568 non-null  object        \n",
            " 8   ApprovalDate       15568 non-null  datetime64[ns]\n",
            " 9   ApprovalFY         15568 non-null  float64       \n",
            " 10  Term               15568 non-null  float64       \n",
            " 11  NoEmp              15568 non-null  float64       \n",
            " 12  NewExist           15568 non-null  object        \n",
            " 13  CreateJob          15568 non-null  float64       \n",
            " 14  RetainedJob        15568 non-null  float64       \n",
            " 15  FranchiseCode      15568 non-null  object        \n",
            " 16  UrbanRural         15568 non-null  object        \n",
            " 17  RevLineCr          15566 non-null  object        \n",
            " 18  LowDoc             15568 non-null  object        \n",
            " 19  ChgOffDate         3181 non-null   datetime64[ns]\n",
            " 20  DisbursementDate   15543 non-null  datetime64[ns]\n",
            " 21  DisbursementGross  15568 non-null  float64       \n",
            " 22  BalanceGross       15568 non-null  float64       \n",
            " 23  MIS_Status         15538 non-null  object        \n",
            " 24  ChgOffPrinGr       15568 non-null  float64       \n",
            " 25  GrAppv             15568 non-null  float64       \n",
            " 26  SBA_Appv           15568 non-null  float64       \n",
            "dtypes: datetime64[ns](3), float64(10), object(14)\n",
            "memory usage: 3.2+ MB\n"
          ]
        }
      ]
    },
    {
      "cell_type": "markdown",
      "source": [
        "## **1. Data Cleansing**"
      ],
      "metadata": {
        "id": "qmAhBwRHTSDW"
      }
    },
    {
      "cell_type": "markdown",
      "source": [
        "### 1.A Handle missing values"
      ],
      "metadata": {
        "id": "D3OI3UN3rkeA"
      }
    },
    {
      "cell_type": "code",
      "source": [
        "# Identifikasi missing value\n",
        "df.isna().sum()"
      ],
      "metadata": {
        "id": "JmlyuwWzTP5J",
        "colab": {
          "base_uri": "https://localhost:8080/"
        },
        "outputId": "751c932d-e8a6-479a-cf5e-7aec98044de3"
      },
      "execution_count": null,
      "outputs": [
        {
          "output_type": "execute_result",
          "data": {
            "text/plain": [
              "LoanNr_ChkDgt            0\n",
              "Name                     4\n",
              "City                     0\n",
              "State                    1\n",
              "Zip                      1\n",
              "Bank                    12\n",
              "BankState               12\n",
              "NAICS                    1\n",
              "ApprovalDate             1\n",
              "ApprovalFY               1\n",
              "Term                     1\n",
              "NoEmp                    1\n",
              "NewExist                 1\n",
              "CreateJob                1\n",
              "RetainedJob              1\n",
              "FranchiseCode            1\n",
              "UrbanRural               1\n",
              "RevLineCr                3\n",
              "LowDoc                   1\n",
              "ChgOffDate           12388\n",
              "DisbursementDate        26\n",
              "DisbursementGross        1\n",
              "BalanceGross             1\n",
              "MIS_Status              31\n",
              "ChgOffPrinGr             1\n",
              "GrAppv                   1\n",
              "SBA_Appv                 1\n",
              "dtype: int64"
            ]
          },
          "metadata": {},
          "execution_count": 7
        }
      ]
    },
    {
      "cell_type": "markdown",
      "source": [
        "Seperti yang sudah dibahas sebelumnya pada stage 1 Soal nomor 1.B. bahwa jumlah missing value seluruh variable selain 'ChgOffDate' tidak terlalu signifikan paling besar hanya 0.005%, maka dapat ditangani dengan cara menghapus semua baris yang memiliki missing value. Sedangkan untuk variable 'ChgOffDate' akan dihapus kolomnya karena missing value yang sangat besar > 80%"
      ],
      "metadata": {
        "id": "CXHQq8sI2WFQ"
      }
    },
    {
      "cell_type": "code",
      "source": [
        "# Menghapus baris yang memiliki nilai missing value\n",
        "df.dropna(subset=['Name', 'City', 'State', 'Bank', 'BankState', 'NewExist','RevLineCr', \n",
        "                  'LowDoc', 'DisbursementDate', 'MIS_Status'], inplace=True)"
      ],
      "metadata": {
        "id": "H7Yg97yU2XWm"
      },
      "execution_count": null,
      "outputs": []
    },
    {
      "cell_type": "code",
      "source": [
        "# Menghapus variabel ChgOffDate\n",
        "df = df.drop(axis =1, columns = ['ChgOffDate'])"
      ],
      "metadata": {
        "id": "RoNZ0sKT2g0M"
      },
      "execution_count": null,
      "outputs": []
    },
    {
      "cell_type": "code",
      "source": [
        "# Cek apakah masih ada missing value\n",
        "df.isna().sum()"
      ],
      "metadata": {
        "colab": {
          "base_uri": "https://localhost:8080/"
        },
        "id": "uxFPksCv24az",
        "outputId": "ff5b18b7-6aea-4301-f3a1-792597043ee9"
      },
      "execution_count": null,
      "outputs": [
        {
          "output_type": "execute_result",
          "data": {
            "text/plain": [
              "LoanNr_ChkDgt        0\n",
              "Name                 0\n",
              "City                 0\n",
              "State                0\n",
              "Zip                  0\n",
              "Bank                 0\n",
              "BankState            0\n",
              "NAICS                0\n",
              "ApprovalDate         0\n",
              "ApprovalFY           0\n",
              "Term                 0\n",
              "NoEmp                0\n",
              "NewExist             0\n",
              "CreateJob            0\n",
              "RetainedJob          0\n",
              "FranchiseCode        0\n",
              "UrbanRural           0\n",
              "RevLineCr            0\n",
              "LowDoc               0\n",
              "DisbursementDate     0\n",
              "DisbursementGross    0\n",
              "BalanceGross         0\n",
              "MIS_Status           0\n",
              "ChgOffPrinGr         0\n",
              "GrAppv               0\n",
              "SBA_Appv             0\n",
              "dtype: int64"
            ]
          },
          "metadata": {},
          "execution_count": 10
        }
      ]
    },
    {
      "cell_type": "markdown",
      "source": [
        "Pada dataset sudah tidak terdapat missing value"
      ],
      "metadata": {
        "id": "FGNlnMTg6bD9"
      }
    },
    {
      "cell_type": "code",
      "source": [
        "# Cleaning Feature 'ApprovalFY'\n",
        "df.ApprovalFY.unique()"
      ],
      "metadata": {
        "colab": {
          "base_uri": "https://localhost:8080/"
        },
        "id": "eFDpF7kK29ZB",
        "outputId": "80027c6b-4efc-4186-ea72-4484c50126f0"
      },
      "execution_count": null,
      "outputs": [
        {
          "output_type": "execute_result",
          "data": {
            "text/plain": [
              "array([1997., 1980., 2006., 1998., 1999., 2000., 2001., 1972., 2003.,\n",
              "       2004., 1978., 1979., 1981., 2005.])"
            ]
          },
          "metadata": {},
          "execution_count": 11
        }
      ]
    },
    {
      "cell_type": "code",
      "source": [
        "def clean_str(x):\n",
        "    if isinstance(x, str):\n",
        "        return x.replace('A', '')\n",
        "    return x\n",
        "df.ApprovalFY = df.ApprovalFY.apply(clean_str).astype('int64')\n",
        "df.ApprovalFY.unique()"
      ],
      "metadata": {
        "colab": {
          "base_uri": "https://localhost:8080/"
        },
        "id": "LXaCcch03LKZ",
        "outputId": "6b01da6c-78d7-4002-a4d4-4345783f9947"
      },
      "execution_count": null,
      "outputs": [
        {
          "output_type": "execute_result",
          "data": {
            "text/plain": [
              "array([1997, 1980, 2006, 1998, 1999, 2000, 2001, 1972, 2003, 2004, 1978,\n",
              "       1979, 1981, 2005])"
            ]
          },
          "metadata": {},
          "execution_count": 12
        }
      ]
    },
    {
      "cell_type": "code",
      "source": [
        "# Cleaning Feature 'NewExist\n",
        "# Feature 'NewExist' seharusnya hanya terdiri dari 2 atau 1 saja, sehingga nilai 0 harus dihilangkan\n",
        "df.NewExist.unique()"
      ],
      "metadata": {
        "colab": {
          "base_uri": "https://localhost:8080/"
        },
        "id": "EsoL08z03ZYA",
        "outputId": "7ad94f05-2acc-45a6-91e7-1333a0adf0cb"
      },
      "execution_count": null,
      "outputs": [
        {
          "output_type": "execute_result",
          "data": {
            "text/plain": [
              "array([2.0, 1.0, 0.0], dtype=object)"
            ]
          },
          "metadata": {},
          "execution_count": 13
        }
      ]
    },
    {
      "cell_type": "code",
      "source": [
        "df = df[(df['NewExist'] == 1) | (df['NewExist'] == 2)]\n",
        "df.NewExist.unique()"
      ],
      "metadata": {
        "colab": {
          "base_uri": "https://localhost:8080/"
        },
        "id": "sAJcrJkh3qIi",
        "outputId": "f7e8cce2-32b0-41b6-e567-ddec3628dbcf"
      },
      "execution_count": null,
      "outputs": [
        {
          "output_type": "execute_result",
          "data": {
            "text/plain": [
              "array([2.0, 1.0], dtype=object)"
            ]
          },
          "metadata": {},
          "execution_count": 14
        }
      ]
    },
    {
      "cell_type": "code",
      "source": [
        "# Cleaning Feature 'RevLineCr' & 'LowDoc'\n",
        "print(df.RevLineCr.unique())\n",
        "print(df.LowDoc.unique())"
      ],
      "metadata": {
        "colab": {
          "base_uri": "https://localhost:8080/"
        },
        "id": "7yqVDbdH3ttf",
        "outputId": "62f480be-5617-45c2-8ce3-80d27cca8a7c"
      },
      "execution_count": null,
      "outputs": [
        {
          "output_type": "stream",
          "name": "stdout",
          "text": [
            "['N' '0' 'Y' 'T' '`' ',']\n",
            "['Y' 'N' 'C']\n"
          ]
        }
      ]
    },
    {
      "cell_type": "code",
      "source": [
        "df = df[(df.RevLineCr == 'Y') | (df.RevLineCr == 'N')]\n",
        "df = df[(df.LowDoc == 'Y') | (df.LowDoc == 'N')]\n",
        "print(df.RevLineCr.unique())\n",
        "print(df.LowDoc.unique())"
      ],
      "metadata": {
        "colab": {
          "base_uri": "https://localhost:8080/"
        },
        "id": "J2BGrDrr3_s-",
        "outputId": "aedc5979-f3a2-482a-f063-9d06c8f63bd0"
      },
      "execution_count": null,
      "outputs": [
        {
          "output_type": "stream",
          "name": "stdout",
          "text": [
            "['N' 'Y']\n",
            "['Y' 'N']\n"
          ]
        }
      ]
    },
    {
      "cell_type": "code",
      "source": [
        "df.info()"
      ],
      "metadata": {
        "colab": {
          "base_uri": "https://localhost:8080/"
        },
        "id": "MhuHLybZ4H4C",
        "outputId": "3481d6e5-1dc3-4a19-ad7d-09a58b309e06"
      },
      "execution_count": null,
      "outputs": [
        {
          "output_type": "stream",
          "name": "stdout",
          "text": [
            "<class 'pandas.core.frame.DataFrame'>\n",
            "Int64Index: 12509 entries, 0 to 15566\n",
            "Data columns (total 26 columns):\n",
            " #   Column             Non-Null Count  Dtype         \n",
            "---  ------             --------------  -----         \n",
            " 0   LoanNr_ChkDgt      12509 non-null  object        \n",
            " 1   Name               12509 non-null  object        \n",
            " 2   City               12509 non-null  object        \n",
            " 3   State              12509 non-null  object        \n",
            " 4   Zip                12509 non-null  object        \n",
            " 5   Bank               12509 non-null  object        \n",
            " 6   BankState          12509 non-null  object        \n",
            " 7   NAICS              12509 non-null  object        \n",
            " 8   ApprovalDate       12509 non-null  datetime64[ns]\n",
            " 9   ApprovalFY         12509 non-null  int64         \n",
            " 10  Term               12509 non-null  float64       \n",
            " 11  NoEmp              12509 non-null  float64       \n",
            " 12  NewExist           12509 non-null  object        \n",
            " 13  CreateJob          12509 non-null  float64       \n",
            " 14  RetainedJob        12509 non-null  float64       \n",
            " 15  FranchiseCode      12509 non-null  object        \n",
            " 16  UrbanRural         12509 non-null  object        \n",
            " 17  RevLineCr          12509 non-null  object        \n",
            " 18  LowDoc             12509 non-null  object        \n",
            " 19  DisbursementDate   12509 non-null  datetime64[ns]\n",
            " 20  DisbursementGross  12509 non-null  float64       \n",
            " 21  BalanceGross       12509 non-null  float64       \n",
            " 22  MIS_Status         12509 non-null  object        \n",
            " 23  ChgOffPrinGr       12509 non-null  float64       \n",
            " 24  GrAppv             12509 non-null  float64       \n",
            " 25  SBA_Appv           12509 non-null  float64       \n",
            "dtypes: datetime64[ns](2), float64(9), int64(1), object(14)\n",
            "memory usage: 2.6+ MB\n"
          ]
        }
      ]
    },
    {
      "cell_type": "markdown",
      "source": [
        "### 1.B Handle duplicated data"
      ],
      "metadata": {
        "id": "jwgH9i9krt2N"
      }
    },
    {
      "cell_type": "code",
      "source": [
        "# Mengecek apakah ada data yang duplikat\n",
        "df.duplicated().sum()"
      ],
      "metadata": {
        "id": "oSDnTdxLTsJm",
        "colab": {
          "base_uri": "https://localhost:8080/"
        },
        "outputId": "c9c29f97-8bd1-4a2e-9f40-c39b21399c15"
      },
      "execution_count": null,
      "outputs": [
        {
          "output_type": "execute_result",
          "data": {
            "text/plain": [
              "0"
            ]
          },
          "metadata": {},
          "execution_count": 18
        }
      ]
    },
    {
      "cell_type": "code",
      "source": [
        "# Mengidentifikasi duplikasi pada key variable 'LoanNr_ChkDgt' yang seharusnya unique\n",
        "df.duplicated(subset=['LoanNr_ChkDgt']).sum()"
      ],
      "metadata": {
        "colab": {
          "base_uri": "https://localhost:8080/"
        },
        "id": "qZkPqDHc4ggN",
        "outputId": "d7f7ed56-75a7-4f23-8c79-04df91faca66"
      },
      "execution_count": null,
      "outputs": [
        {
          "output_type": "execute_result",
          "data": {
            "text/plain": [
              "0"
            ]
          },
          "metadata": {},
          "execution_count": 19
        }
      ]
    },
    {
      "cell_type": "markdown",
      "source": [
        "Kesimpulan : Tidak ada duplikat pada dataset tersebut"
      ],
      "metadata": {
        "id": "KYSUmLDW4l8M"
      }
    },
    {
      "cell_type": "markdown",
      "source": [
        "### 1.C Handle outliers"
      ],
      "metadata": {
        "id": "c8sW4B2Qr-30"
      }
    },
    {
      "cell_type": "code",
      "source": [
        "# Statistika desktriptif\n",
        "df.describe()"
      ],
      "metadata": {
        "id": "qn_E_KsSTx4T",
        "colab": {
          "base_uri": "https://localhost:8080/",
          "height": 300
        },
        "outputId": "6e95f36a-bf1c-430b-ee84-f06ef1c39cf2"
      },
      "execution_count": null,
      "outputs": [
        {
          "output_type": "execute_result",
          "data": {
            "text/plain": [
              "         ApprovalFY          Term         NoEmp     CreateJob   RetainedJob  \\\n",
              "count  12509.000000  12509.000000  12509.000000  12509.000000  12509.000000   \n",
              "mean    2002.150452     80.807978      8.447758      0.349828      0.526981   \n",
              "std        4.292630     52.476557     92.561057      3.191935      5.250749   \n",
              "min     1972.000000      0.000000      0.000000      0.000000      0.000000   \n",
              "25%     1997.000000     60.000000      2.000000      0.000000      0.000000   \n",
              "50%     2004.000000     84.000000      3.000000      0.000000      0.000000   \n",
              "75%     2005.000000     84.000000      7.000000      0.000000      0.000000   \n",
              "max     2006.000000    358.000000   9992.000000    200.000000    257.000000   \n",
              "\n",
              "       DisbursementGross  BalanceGross  ChgOffPrinGr        GrAppv  \\\n",
              "count       1.250900e+04       12509.0  1.250900e+04  1.250900e+04   \n",
              "mean        9.931985e+04           0.0  8.868652e+03  8.875003e+04   \n",
              "std         1.600794e+05           0.0  3.938844e+04  1.488140e+05   \n",
              "min         4.500000e+03           0.0  0.000000e+00  2.500000e+03   \n",
              "25%         2.500000e+04           0.0  0.000000e+00  2.500000e+04   \n",
              "50%         5.000000e+04           0.0  0.000000e+00  5.000000e+04   \n",
              "75%         1.000000e+05           0.0  0.000000e+00  9.694000e+04   \n",
              "max         3.599911e+06           0.0  1.311939e+06  2.000000e+06   \n",
              "\n",
              "           SBA_Appv  \n",
              "count  1.250900e+04  \n",
              "mean   6.069859e+04  \n",
              "std    1.164788e+05  \n",
              "min    1.250000e+03  \n",
              "25%    1.250000e+04  \n",
              "50%    2.500000e+04  \n",
              "75%    5.000000e+04  \n",
              "max    1.500000e+06  "
            ],
            "text/html": [
              "\n",
              "  <div id=\"df-8d838e12-89e9-4384-9c11-e79343d659cc\">\n",
              "    <div class=\"colab-df-container\">\n",
              "      <div>\n",
              "<style scoped>\n",
              "    .dataframe tbody tr th:only-of-type {\n",
              "        vertical-align: middle;\n",
              "    }\n",
              "\n",
              "    .dataframe tbody tr th {\n",
              "        vertical-align: top;\n",
              "    }\n",
              "\n",
              "    .dataframe thead th {\n",
              "        text-align: right;\n",
              "    }\n",
              "</style>\n",
              "<table border=\"1\" class=\"dataframe\">\n",
              "  <thead>\n",
              "    <tr style=\"text-align: right;\">\n",
              "      <th></th>\n",
              "      <th>ApprovalFY</th>\n",
              "      <th>Term</th>\n",
              "      <th>NoEmp</th>\n",
              "      <th>CreateJob</th>\n",
              "      <th>RetainedJob</th>\n",
              "      <th>DisbursementGross</th>\n",
              "      <th>BalanceGross</th>\n",
              "      <th>ChgOffPrinGr</th>\n",
              "      <th>GrAppv</th>\n",
              "      <th>SBA_Appv</th>\n",
              "    </tr>\n",
              "  </thead>\n",
              "  <tbody>\n",
              "    <tr>\n",
              "      <th>count</th>\n",
              "      <td>12509.000000</td>\n",
              "      <td>12509.000000</td>\n",
              "      <td>12509.000000</td>\n",
              "      <td>12509.000000</td>\n",
              "      <td>12509.000000</td>\n",
              "      <td>1.250900e+04</td>\n",
              "      <td>12509.0</td>\n",
              "      <td>1.250900e+04</td>\n",
              "      <td>1.250900e+04</td>\n",
              "      <td>1.250900e+04</td>\n",
              "    </tr>\n",
              "    <tr>\n",
              "      <th>mean</th>\n",
              "      <td>2002.150452</td>\n",
              "      <td>80.807978</td>\n",
              "      <td>8.447758</td>\n",
              "      <td>0.349828</td>\n",
              "      <td>0.526981</td>\n",
              "      <td>9.931985e+04</td>\n",
              "      <td>0.0</td>\n",
              "      <td>8.868652e+03</td>\n",
              "      <td>8.875003e+04</td>\n",
              "      <td>6.069859e+04</td>\n",
              "    </tr>\n",
              "    <tr>\n",
              "      <th>std</th>\n",
              "      <td>4.292630</td>\n",
              "      <td>52.476557</td>\n",
              "      <td>92.561057</td>\n",
              "      <td>3.191935</td>\n",
              "      <td>5.250749</td>\n",
              "      <td>1.600794e+05</td>\n",
              "      <td>0.0</td>\n",
              "      <td>3.938844e+04</td>\n",
              "      <td>1.488140e+05</td>\n",
              "      <td>1.164788e+05</td>\n",
              "    </tr>\n",
              "    <tr>\n",
              "      <th>min</th>\n",
              "      <td>1972.000000</td>\n",
              "      <td>0.000000</td>\n",
              "      <td>0.000000</td>\n",
              "      <td>0.000000</td>\n",
              "      <td>0.000000</td>\n",
              "      <td>4.500000e+03</td>\n",
              "      <td>0.0</td>\n",
              "      <td>0.000000e+00</td>\n",
              "      <td>2.500000e+03</td>\n",
              "      <td>1.250000e+03</td>\n",
              "    </tr>\n",
              "    <tr>\n",
              "      <th>25%</th>\n",
              "      <td>1997.000000</td>\n",
              "      <td>60.000000</td>\n",
              "      <td>2.000000</td>\n",
              "      <td>0.000000</td>\n",
              "      <td>0.000000</td>\n",
              "      <td>2.500000e+04</td>\n",
              "      <td>0.0</td>\n",
              "      <td>0.000000e+00</td>\n",
              "      <td>2.500000e+04</td>\n",
              "      <td>1.250000e+04</td>\n",
              "    </tr>\n",
              "    <tr>\n",
              "      <th>50%</th>\n",
              "      <td>2004.000000</td>\n",
              "      <td>84.000000</td>\n",
              "      <td>3.000000</td>\n",
              "      <td>0.000000</td>\n",
              "      <td>0.000000</td>\n",
              "      <td>5.000000e+04</td>\n",
              "      <td>0.0</td>\n",
              "      <td>0.000000e+00</td>\n",
              "      <td>5.000000e+04</td>\n",
              "      <td>2.500000e+04</td>\n",
              "    </tr>\n",
              "    <tr>\n",
              "      <th>75%</th>\n",
              "      <td>2005.000000</td>\n",
              "      <td>84.000000</td>\n",
              "      <td>7.000000</td>\n",
              "      <td>0.000000</td>\n",
              "      <td>0.000000</td>\n",
              "      <td>1.000000e+05</td>\n",
              "      <td>0.0</td>\n",
              "      <td>0.000000e+00</td>\n",
              "      <td>9.694000e+04</td>\n",
              "      <td>5.000000e+04</td>\n",
              "    </tr>\n",
              "    <tr>\n",
              "      <th>max</th>\n",
              "      <td>2006.000000</td>\n",
              "      <td>358.000000</td>\n",
              "      <td>9992.000000</td>\n",
              "      <td>200.000000</td>\n",
              "      <td>257.000000</td>\n",
              "      <td>3.599911e+06</td>\n",
              "      <td>0.0</td>\n",
              "      <td>1.311939e+06</td>\n",
              "      <td>2.000000e+06</td>\n",
              "      <td>1.500000e+06</td>\n",
              "    </tr>\n",
              "  </tbody>\n",
              "</table>\n",
              "</div>\n",
              "      <button class=\"colab-df-convert\" onclick=\"convertToInteractive('df-8d838e12-89e9-4384-9c11-e79343d659cc')\"\n",
              "              title=\"Convert this dataframe to an interactive table.\"\n",
              "              style=\"display:none;\">\n",
              "        \n",
              "  <svg xmlns=\"http://www.w3.org/2000/svg\" height=\"24px\"viewBox=\"0 0 24 24\"\n",
              "       width=\"24px\">\n",
              "    <path d=\"M0 0h24v24H0V0z\" fill=\"none\"/>\n",
              "    <path d=\"M18.56 5.44l.94 2.06.94-2.06 2.06-.94-2.06-.94-.94-2.06-.94 2.06-2.06.94zm-11 1L8.5 8.5l.94-2.06 2.06-.94-2.06-.94L8.5 2.5l-.94 2.06-2.06.94zm10 10l.94 2.06.94-2.06 2.06-.94-2.06-.94-.94-2.06-.94 2.06-2.06.94z\"/><path d=\"M17.41 7.96l-1.37-1.37c-.4-.4-.92-.59-1.43-.59-.52 0-1.04.2-1.43.59L10.3 9.45l-7.72 7.72c-.78.78-.78 2.05 0 2.83L4 21.41c.39.39.9.59 1.41.59.51 0 1.02-.2 1.41-.59l7.78-7.78 2.81-2.81c.8-.78.8-2.07 0-2.86zM5.41 20L4 18.59l7.72-7.72 1.47 1.35L5.41 20z\"/>\n",
              "  </svg>\n",
              "      </button>\n",
              "      \n",
              "  <style>\n",
              "    .colab-df-container {\n",
              "      display:flex;\n",
              "      flex-wrap:wrap;\n",
              "      gap: 12px;\n",
              "    }\n",
              "\n",
              "    .colab-df-convert {\n",
              "      background-color: #E8F0FE;\n",
              "      border: none;\n",
              "      border-radius: 50%;\n",
              "      cursor: pointer;\n",
              "      display: none;\n",
              "      fill: #1967D2;\n",
              "      height: 32px;\n",
              "      padding: 0 0 0 0;\n",
              "      width: 32px;\n",
              "    }\n",
              "\n",
              "    .colab-df-convert:hover {\n",
              "      background-color: #E2EBFA;\n",
              "      box-shadow: 0px 1px 2px rgba(60, 64, 67, 0.3), 0px 1px 3px 1px rgba(60, 64, 67, 0.15);\n",
              "      fill: #174EA6;\n",
              "    }\n",
              "\n",
              "    [theme=dark] .colab-df-convert {\n",
              "      background-color: #3B4455;\n",
              "      fill: #D2E3FC;\n",
              "    }\n",
              "\n",
              "    [theme=dark] .colab-df-convert:hover {\n",
              "      background-color: #434B5C;\n",
              "      box-shadow: 0px 1px 3px 1px rgba(0, 0, 0, 0.15);\n",
              "      filter: drop-shadow(0px 1px 2px rgba(0, 0, 0, 0.3));\n",
              "      fill: #FFFFFF;\n",
              "    }\n",
              "  </style>\n",
              "\n",
              "      <script>\n",
              "        const buttonEl =\n",
              "          document.querySelector('#df-8d838e12-89e9-4384-9c11-e79343d659cc button.colab-df-convert');\n",
              "        buttonEl.style.display =\n",
              "          google.colab.kernel.accessAllowed ? 'block' : 'none';\n",
              "\n",
              "        async function convertToInteractive(key) {\n",
              "          const element = document.querySelector('#df-8d838e12-89e9-4384-9c11-e79343d659cc');\n",
              "          const dataTable =\n",
              "            await google.colab.kernel.invokeFunction('convertToInteractive',\n",
              "                                                     [key], {});\n",
              "          if (!dataTable) return;\n",
              "\n",
              "          const docLinkHtml = 'Like what you see? Visit the ' +\n",
              "            '<a target=\"_blank\" href=https://colab.research.google.com/notebooks/data_table.ipynb>data table notebook</a>'\n",
              "            + ' to learn more about interactive tables.';\n",
              "          element.innerHTML = '';\n",
              "          dataTable['output_type'] = 'display_data';\n",
              "          await google.colab.output.renderOutput(dataTable, element);\n",
              "          const docLink = document.createElement('div');\n",
              "          docLink.innerHTML = docLinkHtml;\n",
              "          element.appendChild(docLink);\n",
              "        }\n",
              "      </script>\n",
              "    </div>\n",
              "  </div>\n",
              "  "
            ]
          },
          "metadata": {},
          "execution_count": 20
        }
      ]
    },
    {
      "cell_type": "code",
      "source": [
        "# Mengelompokkan feature\n",
        "nums1 = ['ApprovalFY', 'Term', 'NoEmp', 'CreateJob', 'RetainedJob'] \n",
        "nums2 = ['DisbursementGross', 'BalanceGross', 'ChgOffPrinGr', 'GrAppv', 'SBA_Appv'] "
      ],
      "metadata": {
        "id": "FFlrPMI-407g"
      },
      "execution_count": null,
      "outputs": []
    },
    {
      "cell_type": "code",
      "source": [
        "# Histogram nums1\n",
        "plt.figure(figsize=(15,5))\n",
        "for i in range(0, len(nums1)):\n",
        "    plt.subplot(2, len(nums1), i+1)\n",
        "    sns.distplot(df[nums1[i]], color='gray')\n",
        "    plt.tight_layout()"
      ],
      "metadata": {
        "colab": {
          "base_uri": "https://localhost:8080/",
          "height": 1000
        },
        "id": "KogX6PC544JT",
        "outputId": "b03f8a77-42d6-4579-9c18-7227ae1ff455"
      },
      "execution_count": null,
      "outputs": [
        {
          "output_type": "stream",
          "name": "stderr",
          "text": [
            "<ipython-input-22-05a1411fdcbd>:5: UserWarning: \n",
            "\n",
            "`distplot` is a deprecated function and will be removed in seaborn v0.14.0.\n",
            "\n",
            "Please adapt your code to use either `displot` (a figure-level function with\n",
            "similar flexibility) or `histplot` (an axes-level function for histograms).\n",
            "\n",
            "For a guide to updating your code to use the new functions, please see\n",
            "https://gist.github.com/mwaskom/de44147ed2974457ad6372750bbe5751\n",
            "\n",
            "  sns.distplot(df[nums1[i]], color='gray')\n",
            "<ipython-input-22-05a1411fdcbd>:5: UserWarning: \n",
            "\n",
            "`distplot` is a deprecated function and will be removed in seaborn v0.14.0.\n",
            "\n",
            "Please adapt your code to use either `displot` (a figure-level function with\n",
            "similar flexibility) or `histplot` (an axes-level function for histograms).\n",
            "\n",
            "For a guide to updating your code to use the new functions, please see\n",
            "https://gist.github.com/mwaskom/de44147ed2974457ad6372750bbe5751\n",
            "\n",
            "  sns.distplot(df[nums1[i]], color='gray')\n",
            "<ipython-input-22-05a1411fdcbd>:5: UserWarning: \n",
            "\n",
            "`distplot` is a deprecated function and will be removed in seaborn v0.14.0.\n",
            "\n",
            "Please adapt your code to use either `displot` (a figure-level function with\n",
            "similar flexibility) or `histplot` (an axes-level function for histograms).\n",
            "\n",
            "For a guide to updating your code to use the new functions, please see\n",
            "https://gist.github.com/mwaskom/de44147ed2974457ad6372750bbe5751\n",
            "\n",
            "  sns.distplot(df[nums1[i]], color='gray')\n",
            "<ipython-input-22-05a1411fdcbd>:5: UserWarning: \n",
            "\n",
            "`distplot` is a deprecated function and will be removed in seaborn v0.14.0.\n",
            "\n",
            "Please adapt your code to use either `displot` (a figure-level function with\n",
            "similar flexibility) or `histplot` (an axes-level function for histograms).\n",
            "\n",
            "For a guide to updating your code to use the new functions, please see\n",
            "https://gist.github.com/mwaskom/de44147ed2974457ad6372750bbe5751\n",
            "\n",
            "  sns.distplot(df[nums1[i]], color='gray')\n",
            "<ipython-input-22-05a1411fdcbd>:5: UserWarning: \n",
            "\n",
            "`distplot` is a deprecated function and will be removed in seaborn v0.14.0.\n",
            "\n",
            "Please adapt your code to use either `displot` (a figure-level function with\n",
            "similar flexibility) or `histplot` (an axes-level function for histograms).\n",
            "\n",
            "For a guide to updating your code to use the new functions, please see\n",
            "https://gist.github.com/mwaskom/de44147ed2974457ad6372750bbe5751\n",
            "\n",
            "  sns.distplot(df[nums1[i]], color='gray')\n"
          ]
        },
        {
          "output_type": "display_data",
          "data": {
            "text/plain": [
              "<Figure size 1500x500 with 5 Axes>"
            ],
            "image/png": "[encoded data removed]"
          },
          "metadata": {}
        }
      ]
    },
    {
      "cell_type": "code",
      "source": [
        "# Histogram nums2\n",
        "plt.figure(figsize=(15,5))\n",
        "for i in range(0, len(nums2)):\n",
        "    plt.subplot(2, len(nums2), i+1)\n",
        "    sns.distplot(df[nums2[i]], color='gray')\n",
        "    plt.tight_layout()"
      ],
      "metadata": {
        "colab": {
          "base_uri": "https://localhost:8080/",
          "height": 1000
        },
        "id": "n7TzjAon5c2D",
        "outputId": "cff1eb28-4c9d-45ff-bcbd-ab1fd96b71c4"
      },
      "execution_count": null,
      "outputs": [
        {
          "output_type": "stream",
          "name": "stderr",
          "text": [
            "<ipython-input-23-4c20b75fa148>:5: UserWarning: \n",
            "\n",
            "`distplot` is a deprecated function and will be removed in seaborn v0.14.0.\n",
            "\n",
            "Please adapt your code to use either `displot` (a figure-level function with\n",
            "similar flexibility) or `histplot` (an axes-level function for histograms).\n",
            "\n",
            "For a guide to updating your code to use the new functions, please see\n",
            "https://gist.github.com/mwaskom/de44147ed2974457ad6372750bbe5751\n",
            "\n",
            "  sns.distplot(df[nums2[i]], color='gray')\n",
            "<ipython-input-23-4c20b75fa148>:5: UserWarning: \n",
            "\n",
            "`distplot` is a deprecated function and will be removed in seaborn v0.14.0.\n",
            "\n",
            "Please adapt your code to use either `displot` (a figure-level function with\n",
            "similar flexibility) or `histplot` (an axes-level function for histograms).\n",
            "\n",
            "For a guide to updating your code to use the new functions, please see\n",
            "https://gist.github.com/mwaskom/de44147ed2974457ad6372750bbe5751\n",
            "\n",
            "  sns.distplot(df[nums2[i]], color='gray')\n",
            "/usr/local/lib/python3.9/dist-packages/seaborn/distributions.py:2511: UserWarning: Dataset has 0 variance; skipping density estimate. Pass `warn_singular=False` to disable this warning.\n",
            "  kdeplot(**{axis: a}, ax=ax, color=kde_color, **kde_kws)\n",
            "<ipython-input-23-4c20b75fa148>:5: UserWarning: \n",
            "\n",
            "`distplot` is a deprecated function and will be removed in seaborn v0.14.0.\n",
            "\n",
            "Please adapt your code to use either `displot` (a figure-level function with\n",
            "similar flexibility) or `histplot` (an axes-level function for histograms).\n",
            "\n",
            "For a guide to updating your code to use the new functions, please see\n",
            "https://gist.github.com/mwaskom/de44147ed2974457ad6372750bbe5751\n",
            "\n",
            "  sns.distplot(df[nums2[i]], color='gray')\n",
            "<ipython-input-23-4c20b75fa148>:5: UserWarning: \n",
            "\n",
            "`distplot` is a deprecated function and will be removed in seaborn v0.14.0.\n",
            "\n",
            "Please adapt your code to use either `displot` (a figure-level function with\n",
            "similar flexibility) or `histplot` (an axes-level function for histograms).\n",
            "\n",
            "For a guide to updating your code to use the new functions, please see\n",
            "https://gist.github.com/mwaskom/de44147ed2974457ad6372750bbe5751\n",
            "\n",
            "  sns.distplot(df[nums2[i]], color='gray')\n",
            "<ipython-input-23-4c20b75fa148>:5: UserWarning: \n",
            "\n",
            "`distplot` is a deprecated function and will be removed in seaborn v0.14.0.\n",
            "\n",
            "Please adapt your code to use either `displot` (a figure-level function with\n",
            "similar flexibility) or `histplot` (an axes-level function for histograms).\n",
            "\n",
            "For a guide to updating your code to use the new functions, please see\n",
            "https://gist.github.com/mwaskom/de44147ed2974457ad6372750bbe5751\n",
            "\n",
            "  sns.distplot(df[nums2[i]], color='gray')\n"
          ]
        },
        {
          "output_type": "display_data",
          "data": {
            "text/plain": [
              "<Figure size 1500x500 with 5 Axes>"
            ],
            "image/png": "[encoded data removed]"
          },
          "metadata": {}
        }
      ]
    },
    {
      "cell_type": "markdown",
      "source": [
        "Karena tidak berditribusi normal maka menghapus outliers variabel2 tersebut ('NoEmp', 'CreateJob', 'RetainedJob', 'DisbursementGross', 'BalanceGross', 'ChgOffPrinGr', 'GrAppv', 'SBA_Appv') dengan menggunakan metode 1.5IQR, dimana IQR = Q3-Q1"
      ],
      "metadata": {
        "id": "FMZKliz-5uvQ"
      }
    },
    {
      "cell_type": "code",
      "source": [
        "# Menghapus outliers variabel 'NoEmp', 'CreateJob', 'RetainedJob', 'DisbursementGross', 'BalanceGross', \n",
        "# 'ChgOffPrinGr', 'GrAppv', 'SBA_Appv'\n",
        "\n",
        "print(f'Jumlah baris sebelum memfilter outlier: {len(df)}')\n",
        "\n",
        "dfo = df\n",
        "for col in ['NoEmp', 'DisbursementGross', 'GrAppv', 'SBA_Appv']:\n",
        "    Q1 = dfo[col].quantile(0.25)\n",
        "    Q3 = dfo[col].quantile(0.75)\n",
        "    IQR = Q3-Q1\n",
        "    low_limit = Q1 - (1.5*IQR)\n",
        "    high_limit = Q3 + (1.5*IQR)\n",
        "    filtered_entries = ((dfo[col] >= low_limit) & (dfo[col] <= high_limit))\n",
        "    dfo = dfo[filtered_entries]\n",
        "\n",
        "print(f'Jumlah baris setelah memfilter outlier: {len(dfo)}')"
      ],
      "metadata": {
        "colab": {
          "base_uri": "https://localhost:8080/"
        },
        "id": "M8S0QCBr51bI",
        "outputId": "464ea976-2322-4146-8d88-c15ae267bc11"
      },
      "execution_count": null,
      "outputs": [
        {
          "output_type": "stream",
          "name": "stdout",
          "text": [
            "Jumlah baris sebelum memfilter outlier: 12509\n",
            "Jumlah baris setelah memfilter outlier: 8284\n"
          ]
        }
      ]
    },
    {
      "cell_type": "code",
      "source": [
        "# Boxplot nums1\n",
        "plt.figure(figsize=(15,5))\n",
        "for i in range(0, len(nums1)):\n",
        "    plt.subplot(1, len(nums1), i+1)\n",
        "    sns.boxplot(y=df[nums1[i]], color='gray', orient='v')\n",
        "    plt.tight_layout()"
      ],
      "metadata": {
        "colab": {
          "base_uri": "https://localhost:8080/",
          "height": 459
        },
        "id": "XLD-6Z3lohcw",
        "outputId": "8bf76e7d-4e4f-4df3-b8b1-d939459556b2"
      },
      "execution_count": null,
      "outputs": [
        {
          "output_type": "display_data",
          "data": {
            "text/plain": [
              "<Figure size 1500x500 with 5 Axes>"
            ],
            "image/png": "[encoded data removed]"
          },
          "metadata": {}
        }
      ]
    },
    {
      "cell_type": "code",
      "source": [
        "# Boxplot nums2\n",
        "plt.figure(figsize=(15,5))\n",
        "for i in range(0, len(nums2)):\n",
        "    plt.subplot(1, len(nums2), i+1)\n",
        "    sns.boxplot(y=df[nums2[i]], color='gray', orient='v')\n",
        "    plt.tight_layout()"
      ],
      "metadata": {
        "colab": {
          "base_uri": "https://localhost:8080/",
          "height": 458
        },
        "id": "M1yE4Ordo_bb",
        "outputId": "b69cb63b-aefe-419e-8b95-2a5c67ba96ec"
      },
      "execution_count": null,
      "outputs": [
        {
          "output_type": "display_data",
          "data": {
            "text/plain": [
              "<Figure size 1500x500 with 5 Axes>"
            ],
            "image/png": "[encoded data removed]"
          },
          "metadata": {}
        }
      ]
    },
    {
      "cell_type": "markdown",
      "source": [
        "Berdasarkan Boxplot nums1 dan nums2 diketahui bahwa masih terdapat outlier pada beberapa feature, sehingga hal ini dapat diatasi dengan menggunakan metode machine learning yang robust terhadap outlier."
      ],
      "metadata": {
        "id": "Agb2EtS1pDuu"
      }
    },
    {
      "cell_type": "markdown",
      "source": [
        "### 1.D Feature transformation"
      ],
      "metadata": {
        "id": "3MmLytSksD-F"
      }
    },
    {
      "cell_type": "code",
      "source": [
        "import pandas as pd\n",
        "from sklearn.preprocessing import LabelEncoder, StandardScaler"
      ],
      "metadata": {
        "id": "DftVHyeJa9l5"
      },
      "execution_count": null,
      "outputs": []
    },
    {
      "cell_type": "code",
      "source": [
        "#feature transformation\n",
        "data = df.drop(['Zip', 'Bank', 'FranchiseCode'], axis=1)"
      ],
      "metadata": {
        "id": "SJz1BFxwUOcJ"
      },
      "execution_count": null,
      "outputs": []
    },
    {
      "cell_type": "code",
      "source": [
        "le = LabelEncoder()\n",
        "data['NewExist'] = le.fit_transform(data['NewExist'])\n",
        "data['UrbanRural'] = le.fit_transform(data['UrbanRural'])\n",
        "data['RevLineCr'] = le.fit_transform(data['RevLineCr'])\n",
        "data['LowDoc'] = le.fit_transform(data['LowDoc'])\n",
        "data['MIS_Status'] = le.fit_transform(data['MIS_Status'])"
      ],
      "metadata": {
        "id": "iQx_iKDuay7V"
      },
      "execution_count": null,
      "outputs": []
    },
    {
      "cell_type": "code",
      "source": [
        "# Scale the numerical variables using StandardScaler\n",
        "scaler = StandardScaler()\n",
        "data[['ApprovalFY', 'Term', 'NoEmp', 'CreateJob', 'RetainedJob', 'DisbursementGross', 'BalanceGross', 'ChgOffPrinGr', 'GrAppv', 'SBA_Appv']] = scaler.fit_transform(data[['ApprovalFY', 'Term', 'NoEmp', \n",
        "      'CreateJob', 'RetainedJob', 'DisbursementGross', 'BalanceGross', 'ChgOffPrinGr', 'GrAppv', 'SBA_Appv']])"
      ],
      "metadata": {
        "id": "F5GjtMWcbKKt"
      },
      "execution_count": null,
      "outputs": []
    },
    {
      "cell_type": "code",
      "source": [
        "data.head()"
      ],
      "metadata": {
        "colab": {
          "base_uri": "https://localhost:8080/",
          "height": 438
        },
        "id": "_qSI96NWb87w",
        "outputId": "f3d63f92-5282-4bd2-e027-2eac2544513e"
      },
      "execution_count": null,
      "outputs": [
        {
          "output_type": "execute_result",
          "data": {
            "text/plain": [
              "  LoanNr_ChkDgt                           Name          City State BankState  \\\n",
              "0    1000014003                 ABC HOBBYCRAFT    EVANSVILLE    IN        OH   \n",
              "1    1000024006    LANDMARK BAR & GRILLE (THE)     NEW PARIS    IN        IN   \n",
              "2    1000034009          WHITLOCK DDS, TODD M.   BLOOMINGTON    IN        IN   \n",
              "3    1000044001  BIG BUCKS PAWN & JEWELRY, LLC  BROKEN ARROW    OK        OK   \n",
              "4    1000054004    ANASTASIA CONFECTIONS, INC.       ORLANDO    FL        FL   \n",
              "\n",
              "      NAICS ApprovalDate  ApprovalFY      Term     NoEmp  ...  UrbanRural  \\\n",
              "0  451120.0   1997-02-28   -1.199884  0.060830 -0.048054  ...           0   \n",
              "1  722410.0   1997-02-28   -1.199884 -0.396535 -0.069662  ...           0   \n",
              "2  621210.0   1997-02-28   -1.199884  1.890291 -0.015642  ...           0   \n",
              "3       0.0   1997-02-28   -1.199884 -0.396535 -0.069662  ...           0   \n",
              "4       0.0   1997-02-28   -1.199884  3.033705  0.059987  ...           0   \n",
              "\n",
              "   RevLineCr  LowDoc  DisbursementDate  DisbursementGross  BalanceGross  \\\n",
              "0          0       1        1999-02-28          -0.245637           0.0   \n",
              "1          0       1        1997-05-31          -0.370580           0.0   \n",
              "2          0       0        1997-12-31           1.172466           0.0   \n",
              "3          0       1        1997-06-30          -0.401816           0.0   \n",
              "4          0       0        1997-05-14           0.810131           0.0   \n",
              "\n",
              "  MIS_Status  ChgOffPrinGr    GrAppv  SBA_Appv  \n",
              "0          1     -0.225168 -0.193202 -0.109025  \n",
              "1          1     -0.225168 -0.327603 -0.246394  \n",
              "2          1     -0.225168  1.332253  1.326916  \n",
              "3          1     -0.225168 -0.361204 -0.280737  \n",
              "4          1     -0.225168  0.942489  1.444968  \n",
              "\n",
              "[5 rows x 23 columns]"
            ],
            "text/html": [
              "\n",
              "  <div id=\"df-6517610e-2c68-423b-aa55-cf910d0ab455\">\n",
              "    <div class=\"colab-df-container\">\n",
              "      <div>\n",
              "<style scoped>\n",
              "    .dataframe tbody tr th:only-of-type {\n",
              "        vertical-align: middle;\n",
              "    }\n",
              "\n",
              "    .dataframe tbody tr th {\n",
              "        vertical-align: top;\n",
              "    }\n",
              "\n",
              "    .dataframe thead th {\n",
              "        text-align: right;\n",
              "    }\n",
              "</style>\n",
              "<table border=\"1\" class=\"dataframe\">\n",
              "  <thead>\n",
              "    <tr style=\"text-align: right;\">\n",
              "      <th></th>\n",
              "      <th>LoanNr_ChkDgt</th>\n",
              "      <th>Name</th>\n",
              "      <th>City</th>\n",
              "      <th>State</th>\n",
              "      <th>BankState</th>\n",
              "      <th>NAICS</th>\n",
              "      <th>ApprovalDate</th>\n",
              "      <th>ApprovalFY</th>\n",
              "      <th>Term</th>\n",
              "      <th>NoEmp</th>\n",
              "      <th>...</th>\n",
              "      <th>UrbanRural</th>\n",
              "      <th>RevLineCr</th>\n",
              "      <th>LowDoc</th>\n",
              "      <th>DisbursementDate</th>\n",
              "      <th>DisbursementGross</th>\n",
              "      <th>BalanceGross</th>\n",
              "      <th>MIS_Status</th>\n",
              "      <th>ChgOffPrinGr</th>\n",
              "      <th>GrAppv</th>\n",
              "      <th>SBA_Appv</th>\n",
              "    </tr>\n",
              "  </thead>\n",
              "  <tbody>\n",
              "    <tr>\n",
              "      <th>0</th>\n",
              "      <td>1000014003</td>\n",
              "      <td>ABC HOBBYCRAFT</td>\n",
              "      <td>EVANSVILLE</td>\n",
              "      <td>IN</td>\n",
              "      <td>OH</td>\n",
              "      <td>451120.0</td>\n",
              "      <td>1997-02-28</td>\n",
              "      <td>-1.199884</td>\n",
              "      <td>0.060830</td>\n",
              "      <td>-0.048054</td>\n",
              "      <td>...</td>\n",
              "      <td>0</td>\n",
              "      <td>0</td>\n",
              "      <td>1</td>\n",
              "      <td>1999-02-28</td>\n",
              "      <td>-0.245637</td>\n",
              "      <td>0.0</td>\n",
              "      <td>1</td>\n",
              "      <td>-0.225168</td>\n",
              "      <td>-0.193202</td>\n",
              "      <td>-0.109025</td>\n",
              "    </tr>\n",
              "    <tr>\n",
              "      <th>1</th>\n",
              "      <td>1000024006</td>\n",
              "      <td>LANDMARK BAR &amp; GRILLE (THE)</td>\n",
              "      <td>NEW PARIS</td>\n",
              "      <td>IN</td>\n",
              "      <td>IN</td>\n",
              "      <td>722410.0</td>\n",
              "      <td>1997-02-28</td>\n",
              "      <td>-1.199884</td>\n",
              "      <td>-0.396535</td>\n",
              "      <td>-0.069662</td>\n",
              "      <td>...</td>\n",
              "      <td>0</td>\n",
              "      <td>0</td>\n",
              "      <td>1</td>\n",
              "      <td>1997-05-31</td>\n",
              "      <td>-0.370580</td>\n",
              "      <td>0.0</td>\n",
              "      <td>1</td>\n",
              "      <td>-0.225168</td>\n",
              "      <td>-0.327603</td>\n",
              "      <td>-0.246394</td>\n",
              "    </tr>\n",
              "    <tr>\n",
              "      <th>2</th>\n",
              "      <td>1000034009</td>\n",
              "      <td>WHITLOCK DDS, TODD M.</td>\n",
              "      <td>BLOOMINGTON</td>\n",
              "      <td>IN</td>\n",
              "      <td>IN</td>\n",
              "      <td>621210.0</td>\n",
              "      <td>1997-02-28</td>\n",
              "      <td>-1.199884</td>\n",
              "      <td>1.890291</td>\n",
              "      <td>-0.015642</td>\n",
              "      <td>...</td>\n",
              "      <td>0</td>\n",
              "      <td>0</td>\n",
              "      <td>0</td>\n",
              "      <td>1997-12-31</td>\n",
              "      <td>1.172466</td>\n",
              "      <td>0.0</td>\n",
              "      <td>1</td>\n",
              "      <td>-0.225168</td>\n",
              "      <td>1.332253</td>\n",
              "      <td>1.326916</td>\n",
              "    </tr>\n",
              "    <tr>\n",
              "      <th>3</th>\n",
              "      <td>1000044001</td>\n",
              "      <td>BIG BUCKS PAWN &amp; JEWELRY, LLC</td>\n",
              "      <td>BROKEN ARROW</td>\n",
              "      <td>OK</td>\n",
              "      <td>OK</td>\n",
              "      <td>0.0</td>\n",
              "      <td>1997-02-28</td>\n",
              "      <td>-1.199884</td>\n",
              "      <td>-0.396535</td>\n",
              "      <td>-0.069662</td>\n",
              "      <td>...</td>\n",
              "      <td>0</td>\n",
              "      <td>0</td>\n",
              "      <td>1</td>\n",
              "      <td>1997-06-30</td>\n",
              "      <td>-0.401816</td>\n",
              "      <td>0.0</td>\n",
              "      <td>1</td>\n",
              "      <td>-0.225168</td>\n",
              "      <td>-0.361204</td>\n",
              "      <td>-0.280737</td>\n",
              "    </tr>\n",
              "    <tr>\n",
              "      <th>4</th>\n",
              "      <td>1000054004</td>\n",
              "      <td>ANASTASIA CONFECTIONS, INC.</td>\n",
              "      <td>ORLANDO</td>\n",
              "      <td>FL</td>\n",
              "      <td>FL</td>\n",
              "      <td>0.0</td>\n",
              "      <td>1997-02-28</td>\n",
              "      <td>-1.199884</td>\n",
              "      <td>3.033705</td>\n",
              "      <td>0.059987</td>\n",
              "      <td>...</td>\n",
              "      <td>0</td>\n",
              "      <td>0</td>\n",
              "      <td>0</td>\n",
              "      <td>1997-05-14</td>\n",
              "      <td>0.810131</td>\n",
              "      <td>0.0</td>\n",
              "      <td>1</td>\n",
              "      <td>-0.225168</td>\n",
              "      <td>0.942489</td>\n",
              "      <td>1.444968</td>\n",
              "    </tr>\n",
              "  </tbody>\n",
              "</table>\n",
              "<p>5 rows × 23 columns</p>\n",
              "</div>\n",
              "      <button class=\"colab-df-convert\" onclick=\"convertToInteractive('df-6517610e-2c68-423b-aa55-cf910d0ab455')\"\n",
              "              title=\"Convert this dataframe to an interactive table.\"\n",
              "              style=\"display:none;\">\n",
              "        \n",
              "  <svg xmlns=\"http://www.w3.org/2000/svg\" height=\"24px\"viewBox=\"0 0 24 24\"\n",
              "       width=\"24px\">\n",
              "    <path d=\"M0 0h24v24H0V0z\" fill=\"none\"/>\n",
              "    <path d=\"M18.56 5.44l.94 2.06.94-2.06 2.06-.94-2.06-.94-.94-2.06-.94 2.06-2.06.94zm-11 1L8.5 8.5l.94-2.06 2.06-.94-2.06-.94L8.5 2.5l-.94 2.06-2.06.94zm10 10l.94 2.06.94-2.06 2.06-.94-2.06-.94-.94-2.06-.94 2.06-2.06.94z\"/><path d=\"M17.41 7.96l-1.37-1.37c-.4-.4-.92-.59-1.43-.59-.52 0-1.04.2-1.43.59L10.3 9.45l-7.72 7.72c-.78.78-.78 2.05 0 2.83L4 21.41c.39.39.9.59 1.41.59.51 0 1.02-.2 1.41-.59l7.78-7.78 2.81-2.81c.8-.78.8-2.07 0-2.86zM5.41 20L4 18.59l7.72-7.72 1.47 1.35L5.41 20z\"/>\n",
              "  </svg>\n",
              "      </button>\n",
              "      \n",
              "  <style>\n",
              "    .colab-df-container {\n",
              "      display:flex;\n",
              "      flex-wrap:wrap;\n",
              "      gap: 12px;\n",
              "    }\n",
              "\n",
              "    .colab-df-convert {\n",
              "      background-color: #E8F0FE;\n",
              "      border: none;\n",
              "      border-radius: 50%;\n",
              "      cursor: pointer;\n",
              "      display: none;\n",
              "      fill: #1967D2;\n",
              "      height: 32px;\n",
              "      padding: 0 0 0 0;\n",
              "      width: 32px;\n",
              "    }\n",
              "\n",
              "    .colab-df-convert:hover {\n",
              "      background-color: #E2EBFA;\n",
              "      box-shadow: 0px 1px 2px rgba(60, 64, 67, 0.3), 0px 1px 3px 1px rgba(60, 64, 67, 0.15);\n",
              "      fill: #174EA6;\n",
              "    }\n",
              "\n",
              "    [theme=dark] .colab-df-convert {\n",
              "      background-color: #3B4455;\n",
              "      fill: #D2E3FC;\n",
              "    }\n",
              "\n",
              "    [theme=dark] .colab-df-convert:hover {\n",
              "      background-color: #434B5C;\n",
              "      box-shadow: 0px 1px 3px 1px rgba(0, 0, 0, 0.15);\n",
              "      filter: drop-shadow(0px 1px 2px rgba(0, 0, 0, 0.3));\n",
              "      fill: #FFFFFF;\n",
              "    }\n",
              "  </style>\n",
              "\n",
              "      <script>\n",
              "        const buttonEl =\n",
              "          document.querySelector('#df-6517610e-2c68-423b-aa55-cf910d0ab455 button.colab-df-convert');\n",
              "        buttonEl.style.display =\n",
              "          google.colab.kernel.accessAllowed ? 'block' : 'none';\n",
              "\n",
              "        async function convertToInteractive(key) {\n",
              "          const element = document.querySelector('#df-6517610e-2c68-423b-aa55-cf910d0ab455');\n",
              "          const dataTable =\n",
              "            await google.colab.kernel.invokeFunction('convertToInteractive',\n",
              "                                                     [key], {});\n",
              "          if (!dataTable) return;\n",
              "\n",
              "          const docLinkHtml = 'Like what you see? Visit the ' +\n",
              "            '<a target=\"_blank\" href=https://colab.research.google.com/notebooks/data_table.ipynb>data table notebook</a>'\n",
              "            + ' to learn more about interactive tables.';\n",
              "          element.innerHTML = '';\n",
              "          dataTable['output_type'] = 'display_data';\n",
              "          await google.colab.output.renderOutput(dataTable, element);\n",
              "          const docLink = document.createElement('div');\n",
              "          docLink.innerHTML = docLinkHtml;\n",
              "          element.appendChild(docLink);\n",
              "        }\n",
              "      </script>\n",
              "    </div>\n",
              "  </div>\n",
              "  "
            ]
          },
          "metadata": {},
          "execution_count": 31
        }
      ]
    },
    {
      "cell_type": "code",
      "source": [
        "data.info()"
      ],
      "metadata": {
        "colab": {
          "base_uri": "https://localhost:8080/"
        },
        "id": "39BEuY3qd9ld",
        "outputId": "c4c3809d-8588-4d5e-dab6-ed77bab0c945"
      },
      "execution_count": null,
      "outputs": [
        {
          "output_type": "stream",
          "name": "stdout",
          "text": [
            "<class 'pandas.core.frame.DataFrame'>\n",
            "Int64Index: 12509 entries, 0 to 15566\n",
            "Data columns (total 23 columns):\n",
            " #   Column             Non-Null Count  Dtype         \n",
            "---  ------             --------------  -----         \n",
            " 0   LoanNr_ChkDgt      12509 non-null  object        \n",
            " 1   Name               12509 non-null  object        \n",
            " 2   City               12509 non-null  object        \n",
            " 3   State              12509 non-null  object        \n",
            " 4   BankState          12509 non-null  object        \n",
            " 5   NAICS              12509 non-null  object        \n",
            " 6   ApprovalDate       12509 non-null  datetime64[ns]\n",
            " 7   ApprovalFY         12509 non-null  float64       \n",
            " 8   Term               12509 non-null  float64       \n",
            " 9   NoEmp              12509 non-null  float64       \n",
            " 10  NewExist           12509 non-null  int64         \n",
            " 11  CreateJob          12509 non-null  float64       \n",
            " 12  RetainedJob        12509 non-null  float64       \n",
            " 13  UrbanRural         12509 non-null  int64         \n",
            " 14  RevLineCr          12509 non-null  int64         \n",
            " 15  LowDoc             12509 non-null  int64         \n",
            " 16  DisbursementDate   12509 non-null  datetime64[ns]\n",
            " 17  DisbursementGross  12509 non-null  float64       \n",
            " 18  BalanceGross       12509 non-null  float64       \n",
            " 19  MIS_Status         12509 non-null  int64         \n",
            " 20  ChgOffPrinGr       12509 non-null  float64       \n",
            " 21  GrAppv             12509 non-null  float64       \n",
            " 22  SBA_Appv           12509 non-null  float64       \n",
            "dtypes: datetime64[ns](2), float64(10), int64(5), object(6)\n",
            "memory usage: 2.3+ MB\n"
          ]
        }
      ]
    },
    {
      "cell_type": "markdown",
      "source": [
        "### 1.E Feature encoding"
      ],
      "metadata": {
        "id": "14lFwCgrsJuI"
      }
    },
    {
      "cell_type": "code",
      "source": [
        "# #Feature encoding\n",
        "# df = data\n",
        "\n",
        "# # Define categorical columns\n",
        "# cat_cols = ['City', 'State', 'BankState', 'NAICS']\n",
        "\n",
        "# # instantiate encoder\n",
        "# encoder = OneHotEncoder(handle_unknown='ignore')\n",
        "\n",
        "# # fit and transform the data\n",
        "# encoded_data = encoder.fit_transform(data[cat_cols])\n",
        "\n",
        "# # create column names for the encoded data\n",
        "# feature_names = encoder.get_feature_names(cat_cols)\n",
        "\n",
        "# # convert encoded data to a DataFrame\n",
        "# encoded_data_df = pd.DataFrame(encoded_data.toarray(), columns=feature_names)\n",
        "\n",
        "# # concatenate encoded data with numerical data\n",
        "# final_data = pd.concat([encoded_data_df, data.drop(cat_cols, axis=1)], axis=1)\n",
        "\n",
        "# # print the final data\n",
        "# print(final_data.head())\n"
      ],
      "metadata": {
        "id": "LuFPXdV5UqUu"
      },
      "execution_count": null,
      "outputs": []
    },
    {
      "cell_type": "code",
      "source": [
        "mapping_status = {'CHGOFF' : 1, 'PIF' : 0,}\n",
        "data['MIS_Status'] = data['MIS_Status'].map(mapping_status)\n",
        "data.head()"
      ],
      "metadata": {
        "id": "hNgboQTmHu2B",
        "colab": {
          "base_uri": "https://localhost:8080/",
          "height": 438
        },
        "outputId": "291295c5-64a4-4c10-f602-a13b936e8cd0"
      },
      "execution_count": null,
      "outputs": [
        {
          "output_type": "execute_result",
          "data": {
            "text/plain": [
              "  LoanNr_ChkDgt                           Name          City State BankState  \\\n",
              "0    1000014003                 ABC HOBBYCRAFT    EVANSVILLE    IN        OH   \n",
              "1    1000024006    LANDMARK BAR & GRILLE (THE)     NEW PARIS    IN        IN   \n",
              "2    1000034009          WHITLOCK DDS, TODD M.   BLOOMINGTON    IN        IN   \n",
              "3    1000044001  BIG BUCKS PAWN & JEWELRY, LLC  BROKEN ARROW    OK        OK   \n",
              "4    1000054004    ANASTASIA CONFECTIONS, INC.       ORLANDO    FL        FL   \n",
              "\n",
              "      NAICS ApprovalDate  ApprovalFY      Term     NoEmp  ...  UrbanRural  \\\n",
              "0  451120.0   1997-02-28   -1.199884  0.060830 -0.048054  ...           0   \n",
              "1  722410.0   1997-02-28   -1.199884 -0.396535 -0.069662  ...           0   \n",
              "2  621210.0   1997-02-28   -1.199884  1.890291 -0.015642  ...           0   \n",
              "3       0.0   1997-02-28   -1.199884 -0.396535 -0.069662  ...           0   \n",
              "4       0.0   1997-02-28   -1.199884  3.033705  0.059987  ...           0   \n",
              "\n",
              "   RevLineCr  LowDoc  DisbursementDate  DisbursementGross  BalanceGross  \\\n",
              "0          0       1        1999-02-28          -0.245637           0.0   \n",
              "1          0       1        1997-05-31          -0.370580           0.0   \n",
              "2          0       0        1997-12-31           1.172466           0.0   \n",
              "3          0       1        1997-06-30          -0.401816           0.0   \n",
              "4          0       0        1997-05-14           0.810131           0.0   \n",
              "\n",
              "  MIS_Status  ChgOffPrinGr    GrAppv  SBA_Appv  \n",
              "0        NaN     -0.225168 -0.193202 -0.109025  \n",
              "1        NaN     -0.225168 -0.327603 -0.246394  \n",
              "2        NaN     -0.225168  1.332253  1.326916  \n",
              "3        NaN     -0.225168 -0.361204 -0.280737  \n",
              "4        NaN     -0.225168  0.942489  1.444968  \n",
              "\n",
              "[5 rows x 23 columns]"
            ],
            "text/html": [
              "\n",
              "  <div id=\"df-15f9ff8c-bedb-482f-be52-0b004edb4ba3\">\n",
              "    <div class=\"colab-df-container\">\n",
              "      <div>\n",
              "<style scoped>\n",
              "    .dataframe tbody tr th:only-of-type {\n",
              "        vertical-align: middle;\n",
              "    }\n",
              "\n",
              "    .dataframe tbody tr th {\n",
              "        vertical-align: top;\n",
              "    }\n",
              "\n",
              "    .dataframe thead th {\n",
              "        text-align: right;\n",
              "    }\n",
              "</style>\n",
              "<table border=\"1\" class=\"dataframe\">\n",
              "  <thead>\n",
              "    <tr style=\"text-align: right;\">\n",
              "      <th></th>\n",
              "      <th>LoanNr_ChkDgt</th>\n",
              "      <th>Name</th>\n",
              "      <th>City</th>\n",
              "      <th>State</th>\n",
              "      <th>BankState</th>\n",
              "      <th>NAICS</th>\n",
              "      <th>ApprovalDate</th>\n",
              "      <th>ApprovalFY</th>\n",
              "      <th>Term</th>\n",
              "      <th>NoEmp</th>\n",
              "      <th>...</th>\n",
              "      <th>UrbanRural</th>\n",
              "      <th>RevLineCr</th>\n",
              "      <th>LowDoc</th>\n",
              "      <th>DisbursementDate</th>\n",
              "      <th>DisbursementGross</th>\n",
              "      <th>BalanceGross</th>\n",
              "      <th>MIS_Status</th>\n",
              "      <th>ChgOffPrinGr</th>\n",
              "      <th>GrAppv</th>\n",
              "      <th>SBA_Appv</th>\n",
              "    </tr>\n",
              "  </thead>\n",
              "  <tbody>\n",
              "    <tr>\n",
              "      <th>0</th>\n",
              "      <td>1000014003</td>\n",
              "      <td>ABC HOBBYCRAFT</td>\n",
              "      <td>EVANSVILLE</td>\n",
              "      <td>IN</td>\n",
              "      <td>OH</td>\n",
              "      <td>451120.0</td>\n",
              "      <td>1997-02-28</td>\n",
              "      <td>-1.199884</td>\n",
              "      <td>0.060830</td>\n",
              "      <td>-0.048054</td>\n",
              "      <td>...</td>\n",
              "      <td>0</td>\n",
              "      <td>0</td>\n",
              "      <td>1</td>\n",
              "      <td>1999-02-28</td>\n",
              "      <td>-0.245637</td>\n",
              "      <td>0.0</td>\n",
              "      <td>NaN</td>\n",
              "      <td>-0.225168</td>\n",
              "      <td>-0.193202</td>\n",
              "      <td>-0.109025</td>\n",
              "    </tr>\n",
              "    <tr>\n",
              "      <th>1</th>\n",
              "      <td>1000024006</td>\n",
              "      <td>LANDMARK BAR &amp; GRILLE (THE)</td>\n",
              "      <td>NEW PARIS</td>\n",
              "      <td>IN</td>\n",
              "      <td>IN</td>\n",
              "      <td>722410.0</td>\n",
              "      <td>1997-02-28</td>\n",
              "      <td>-1.199884</td>\n",
              "      <td>-0.396535</td>\n",
              "      <td>-0.069662</td>\n",
              "      <td>...</td>\n",
              "      <td>0</td>\n",
              "      <td>0</td>\n",
              "      <td>1</td>\n",
              "      <td>1997-05-31</td>\n",
              "      <td>-0.370580</td>\n",
              "      <td>0.0</td>\n",
              "      <td>NaN</td>\n",
              "      <td>-0.225168</td>\n",
              "      <td>-0.327603</td>\n",
              "      <td>-0.246394</td>\n",
              "    </tr>\n",
              "    <tr>\n",
              "      <th>2</th>\n",
              "      <td>1000034009</td>\n",
              "      <td>WHITLOCK DDS, TODD M.</td>\n",
              "      <td>BLOOMINGTON</td>\n",
              "      <td>IN</td>\n",
              "      <td>IN</td>\n",
              "      <td>621210.0</td>\n",
              "      <td>1997-02-28</td>\n",
              "      <td>-1.199884</td>\n",
              "      <td>1.890291</td>\n",
              "      <td>-0.015642</td>\n",
              "      <td>...</td>\n",
              "      <td>0</td>\n",
              "      <td>0</td>\n",
              "      <td>0</td>\n",
              "      <td>1997-12-31</td>\n",
              "      <td>1.172466</td>\n",
              "      <td>0.0</td>\n",
              "      <td>NaN</td>\n",
              "      <td>-0.225168</td>\n",
              "      <td>1.332253</td>\n",
              "      <td>1.326916</td>\n",
              "    </tr>\n",
              "    <tr>\n",
              "      <th>3</th>\n",
              "      <td>1000044001</td>\n",
              "      <td>BIG BUCKS PAWN &amp; JEWELRY, LLC</td>\n",
              "      <td>BROKEN ARROW</td>\n",
              "      <td>OK</td>\n",
              "      <td>OK</td>\n",
              "      <td>0.0</td>\n",
              "      <td>1997-02-28</td>\n",
              "      <td>-1.199884</td>\n",
              "      <td>-0.396535</td>\n",
              "      <td>-0.069662</td>\n",
              "      <td>...</td>\n",
              "      <td>0</td>\n",
              "      <td>0</td>\n",
              "      <td>1</td>\n",
              "      <td>1997-06-30</td>\n",
              "      <td>-0.401816</td>\n",
              "      <td>0.0</td>\n",
              "      <td>NaN</td>\n",
              "      <td>-0.225168</td>\n",
              "      <td>-0.361204</td>\n",
              "      <td>-0.280737</td>\n",
              "    </tr>\n",
              "    <tr>\n",
              "      <th>4</th>\n",
              "      <td>1000054004</td>\n",
              "      <td>ANASTASIA CONFECTIONS, INC.</td>\n",
              "      <td>ORLANDO</td>\n",
              "      <td>FL</td>\n",
              "      <td>FL</td>\n",
              "      <td>0.0</td>\n",
              "      <td>1997-02-28</td>\n",
              "      <td>-1.199884</td>\n",
              "      <td>3.033705</td>\n",
              "      <td>0.059987</td>\n",
              "      <td>...</td>\n",
              "      <td>0</td>\n",
              "      <td>0</td>\n",
              "      <td>0</td>\n",
              "      <td>1997-05-14</td>\n",
              "      <td>0.810131</td>\n",
              "      <td>0.0</td>\n",
              "      <td>NaN</td>\n",
              "      <td>-0.225168</td>\n",
              "      <td>0.942489</td>\n",
              "      <td>1.444968</td>\n",
              "    </tr>\n",
              "  </tbody>\n",
              "</table>\n",
              "<p>5 rows × 23 columns</p>\n",
              "</div>\n",
              "      <button class=\"colab-df-convert\" onclick=\"convertToInteractive('df-15f9ff8c-bedb-482f-be52-0b004edb4ba3')\"\n",
              "              title=\"Convert this dataframe to an interactive table.\"\n",
              "              style=\"display:none;\">\n",
              "        \n",
              "  <svg xmlns=\"http://www.w3.org/2000/svg\" height=\"24px\"viewBox=\"0 0 24 24\"\n",
              "       width=\"24px\">\n",
              "    <path d=\"M0 0h24v24H0V0z\" fill=\"none\"/>\n",
              "    <path d=\"M18.56 5.44l.94 2.06.94-2.06 2.06-.94-2.06-.94-.94-2.06-.94 2.06-2.06.94zm-11 1L8.5 8.5l.94-2.06 2.06-.94-2.06-.94L8.5 2.5l-.94 2.06-2.06.94zm10 10l.94 2.06.94-2.06 2.06-.94-2.06-.94-.94-2.06-.94 2.06-2.06.94z\"/><path d=\"M17.41 7.96l-1.37-1.37c-.4-.4-.92-.59-1.43-.59-.52 0-1.04.2-1.43.59L10.3 9.45l-7.72 7.72c-.78.78-.78 2.05 0 2.83L4 21.41c.39.39.9.59 1.41.59.51 0 1.02-.2 1.41-.59l7.78-7.78 2.81-2.81c.8-.78.8-2.07 0-2.86zM5.41 20L4 18.59l7.72-7.72 1.47 1.35L5.41 20z\"/>\n",
              "  </svg>\n",
              "      </button>\n",
              "      \n",
              "  <style>\n",
              "    .colab-df-container {\n",
              "      display:flex;\n",
              "      flex-wrap:wrap;\n",
              "      gap: 12px;\n",
              "    }\n",
              "\n",
              "    .colab-df-convert {\n",
              "      background-color: #E8F0FE;\n",
              "      border: none;\n",
              "      border-radius: 50%;\n",
              "      cursor: pointer;\n",
              "      display: none;\n",
              "      fill: #1967D2;\n",
              "      height: 32px;\n",
              "      padding: 0 0 0 0;\n",
              "      width: 32px;\n",
              "    }\n",
              "\n",
              "    .colab-df-convert:hover {\n",
              "      background-color: #E2EBFA;\n",
              "      box-shadow: 0px 1px 2px rgba(60, 64, 67, 0.3), 0px 1px 3px 1px rgba(60, 64, 67, 0.15);\n",
              "      fill: #174EA6;\n",
              "    }\n",
              "\n",
              "    [theme=dark] .colab-df-convert {\n",
              "      background-color: #3B4455;\n",
              "      fill: #D2E3FC;\n",
              "    }\n",
              "\n",
              "    [theme=dark] .colab-df-convert:hover {\n",
              "      background-color: #434B5C;\n",
              "      box-shadow: 0px 1px 3px 1px rgba(0, 0, 0, 0.15);\n",
              "      filter: drop-shadow(0px 1px 2px rgba(0, 0, 0, 0.3));\n",
              "      fill: #FFFFFF;\n",
              "    }\n",
              "  </style>\n",
              "\n",
              "      <script>\n",
              "        const buttonEl =\n",
              "          document.querySelector('#df-15f9ff8c-bedb-482f-be52-0b004edb4ba3 button.colab-df-convert');\n",
              "        buttonEl.style.display =\n",
              "          google.colab.kernel.accessAllowed ? 'block' : 'none';\n",
              "\n",
              "        async function convertToInteractive(key) {\n",
              "          const element = document.querySelector('#df-15f9ff8c-bedb-482f-be52-0b004edb4ba3');\n",
              "          const dataTable =\n",
              "            await google.colab.kernel.invokeFunction('convertToInteractive',\n",
              "                                                     [key], {});\n",
              "          if (!dataTable) return;\n",
              "\n",
              "          const docLinkHtml = 'Like what you see? Visit the ' +\n",
              "            '<a target=\"_blank\" href=https://colab.research.google.com/notebooks/data_table.ipynb>data table notebook</a>'\n",
              "            + ' to learn more about interactive tables.';\n",
              "          element.innerHTML = '';\n",
              "          dataTable['output_type'] = 'display_data';\n",
              "          await google.colab.output.renderOutput(dataTable, element);\n",
              "          const docLink = document.createElement('div');\n",
              "          docLink.innerHTML = docLinkHtml;\n",
              "          element.appendChild(docLink);\n",
              "        }\n",
              "      </script>\n",
              "    </div>\n",
              "  </div>\n",
              "  "
            ]
          },
          "metadata": {},
          "execution_count": 34
        }
      ]
    },
    {
      "cell_type": "code",
      "source": [
        "mapping_status = {'Yes' : 1, 'No' : 0,}\n",
        "data['RevLineCr'] = data['RevLineCr'].map(mapping_status)\n",
        "data.head()"
      ],
      "metadata": {
        "colab": {
          "base_uri": "https://localhost:8080/",
          "height": 438
        },
        "id": "0gEk_PO6LgtU",
        "outputId": "19858a9c-2bdf-4a4c-b429-37be1967a7dc"
      },
      "execution_count": null,
      "outputs": [
        {
          "output_type": "execute_result",
          "data": {
            "text/plain": [
              "  LoanNr_ChkDgt                           Name          City State BankState  \\\n",
              "0    1000014003                 ABC HOBBYCRAFT    EVANSVILLE    IN        OH   \n",
              "1    1000024006    LANDMARK BAR & GRILLE (THE)     NEW PARIS    IN        IN   \n",
              "2    1000034009          WHITLOCK DDS, TODD M.   BLOOMINGTON    IN        IN   \n",
              "3    1000044001  BIG BUCKS PAWN & JEWELRY, LLC  BROKEN ARROW    OK        OK   \n",
              "4    1000054004    ANASTASIA CONFECTIONS, INC.       ORLANDO    FL        FL   \n",
              "\n",
              "      NAICS ApprovalDate  ApprovalFY      Term     NoEmp  ...  UrbanRural  \\\n",
              "0  451120.0   1997-02-28   -1.199884  0.060830 -0.048054  ...           0   \n",
              "1  722410.0   1997-02-28   -1.199884 -0.396535 -0.069662  ...           0   \n",
              "2  621210.0   1997-02-28   -1.199884  1.890291 -0.015642  ...           0   \n",
              "3       0.0   1997-02-28   -1.199884 -0.396535 -0.069662  ...           0   \n",
              "4       0.0   1997-02-28   -1.199884  3.033705  0.059987  ...           0   \n",
              "\n",
              "   RevLineCr  LowDoc  DisbursementDate  DisbursementGross  BalanceGross  \\\n",
              "0        NaN       1        1999-02-28          -0.245637           0.0   \n",
              "1        NaN       1        1997-05-31          -0.370580           0.0   \n",
              "2        NaN       0        1997-12-31           1.172466           0.0   \n",
              "3        NaN       1        1997-06-30          -0.401816           0.0   \n",
              "4        NaN       0        1997-05-14           0.810131           0.0   \n",
              "\n",
              "  MIS_Status  ChgOffPrinGr    GrAppv  SBA_Appv  \n",
              "0        NaN     -0.225168 -0.193202 -0.109025  \n",
              "1        NaN     -0.225168 -0.327603 -0.246394  \n",
              "2        NaN     -0.225168  1.332253  1.326916  \n",
              "3        NaN     -0.225168 -0.361204 -0.280737  \n",
              "4        NaN     -0.225168  0.942489  1.444968  \n",
              "\n",
              "[5 rows x 23 columns]"
            ],
            "text/html": [
              "\n",
              "  <div id=\"df-d7dd5a64-6f4f-4383-b063-d4a489584dfd\">\n",
              "    <div class=\"colab-df-container\">\n",
              "      <div>\n",
              "<style scoped>\n",
              "    .dataframe tbody tr th:only-of-type {\n",
              "        vertical-align: middle;\n",
              "    }\n",
              "\n",
              "    .dataframe tbody tr th {\n",
              "        vertical-align: top;\n",
              "    }\n",
              "\n",
              "    .dataframe thead th {\n",
              "        text-align: right;\n",
              "    }\n",
              "</style>\n",
              "<table border=\"1\" class=\"dataframe\">\n",
              "  <thead>\n",
              "    <tr style=\"text-align: right;\">\n",
              "      <th></th>\n",
              "      <th>LoanNr_ChkDgt</th>\n",
              "      <th>Name</th>\n",
              "      <th>City</th>\n",
              "      <th>State</th>\n",
              "      <th>BankState</th>\n",
              "      <th>NAICS</th>\n",
              "      <th>ApprovalDate</th>\n",
              "      <th>ApprovalFY</th>\n",
              "      <th>Term</th>\n",
              "      <th>NoEmp</th>\n",
              "      <th>...</th>\n",
              "      <th>UrbanRural</th>\n",
              "      <th>RevLineCr</th>\n",
              "      <th>LowDoc</th>\n",
              "      <th>DisbursementDate</th>\n",
              "      <th>DisbursementGross</th>\n",
              "      <th>BalanceGross</th>\n",
              "      <th>MIS_Status</th>\n",
              "      <th>ChgOffPrinGr</th>\n",
              "      <th>GrAppv</th>\n",
              "      <th>SBA_Appv</th>\n",
              "    </tr>\n",
              "  </thead>\n",
              "  <tbody>\n",
              "    <tr>\n",
              "      <th>0</th>\n",
              "      <td>1000014003</td>\n",
              "      <td>ABC HOBBYCRAFT</td>\n",
              "      <td>EVANSVILLE</td>\n",
              "      <td>IN</td>\n",
              "      <td>OH</td>\n",
              "      <td>451120.0</td>\n",
              "      <td>1997-02-28</td>\n",
              "      <td>-1.199884</td>\n",
              "      <td>0.060830</td>\n",
              "      <td>-0.048054</td>\n",
              "      <td>...</td>\n",
              "      <td>0</td>\n",
              "      <td>NaN</td>\n",
              "      <td>1</td>\n",
              "      <td>1999-02-28</td>\n",
              "      <td>-0.245637</td>\n",
              "      <td>0.0</td>\n",
              "      <td>NaN</td>\n",
              "      <td>-0.225168</td>\n",
              "      <td>-0.193202</td>\n",
              "      <td>-0.109025</td>\n",
              "    </tr>\n",
              "    <tr>\n",
              "      <th>1</th>\n",
              "      <td>1000024006</td>\n",
              "      <td>LANDMARK BAR &amp; GRILLE (THE)</td>\n",
              "      <td>NEW PARIS</td>\n",
              "      <td>IN</td>\n",
              "      <td>IN</td>\n",
              "      <td>722410.0</td>\n",
              "      <td>1997-02-28</td>\n",
              "      <td>-1.199884</td>\n",
              "      <td>-0.396535</td>\n",
              "      <td>-0.069662</td>\n",
              "      <td>...</td>\n",
              "      <td>0</td>\n",
              "      <td>NaN</td>\n",
              "      <td>1</td>\n",
              "      <td>1997-05-31</td>\n",
              "      <td>-0.370580</td>\n",
              "      <td>0.0</td>\n",
              "      <td>NaN</td>\n",
              "      <td>-0.225168</td>\n",
              "      <td>-0.327603</td>\n",
              "      <td>-0.246394</td>\n",
              "    </tr>\n",
              "    <tr>\n",
              "      <th>2</th>\n",
              "      <td>1000034009</td>\n",
              "      <td>WHITLOCK DDS, TODD M.</td>\n",
              "      <td>BLOOMINGTON</td>\n",
              "      <td>IN</td>\n",
              "      <td>IN</td>\n",
              "      <td>621210.0</td>\n",
              "      <td>1997-02-28</td>\n",
              "      <td>-1.199884</td>\n",
              "      <td>1.890291</td>\n",
              "      <td>-0.015642</td>\n",
              "      <td>...</td>\n",
              "      <td>0</td>\n",
              "      <td>NaN</td>\n",
              "      <td>0</td>\n",
              "      <td>1997-12-31</td>\n",
              "      <td>1.172466</td>\n",
              "      <td>0.0</td>\n",
              "      <td>NaN</td>\n",
              "      <td>-0.225168</td>\n",
              "      <td>1.332253</td>\n",
              "      <td>1.326916</td>\n",
              "    </tr>\n",
              "    <tr>\n",
              "      <th>3</th>\n",
              "      <td>1000044001</td>\n",
              "      <td>BIG BUCKS PAWN &amp; JEWELRY, LLC</td>\n",
              "      <td>BROKEN ARROW</td>\n",
              "      <td>OK</td>\n",
              "      <td>OK</td>\n",
              "      <td>0.0</td>\n",
              "      <td>1997-02-28</td>\n",
              "      <td>-1.199884</td>\n",
              "      <td>-0.396535</td>\n",
              "      <td>-0.069662</td>\n",
              "      <td>...</td>\n",
              "      <td>0</td>\n",
              "      <td>NaN</td>\n",
              "      <td>1</td>\n",
              "      <td>1997-06-30</td>\n",
              "      <td>-0.401816</td>\n",
              "      <td>0.0</td>\n",
              "      <td>NaN</td>\n",
              "      <td>-0.225168</td>\n",
              "      <td>-0.361204</td>\n",
              "      <td>-0.280737</td>\n",
              "    </tr>\n",
              "    <tr>\n",
              "      <th>4</th>\n",
              "      <td>1000054004</td>\n",
              "      <td>ANASTASIA CONFECTIONS, INC.</td>\n",
              "      <td>ORLANDO</td>\n",
              "      <td>FL</td>\n",
              "      <td>FL</td>\n",
              "      <td>0.0</td>\n",
              "      <td>1997-02-28</td>\n",
              "      <td>-1.199884</td>\n",
              "      <td>3.033705</td>\n",
              "      <td>0.059987</td>\n",
              "      <td>...</td>\n",
              "      <td>0</td>\n",
              "      <td>NaN</td>\n",
              "      <td>0</td>\n",
              "      <td>1997-05-14</td>\n",
              "      <td>0.810131</td>\n",
              "      <td>0.0</td>\n",
              "      <td>NaN</td>\n",
              "      <td>-0.225168</td>\n",
              "      <td>0.942489</td>\n",
              "      <td>1.444968</td>\n",
              "    </tr>\n",
              "  </tbody>\n",
              "</table>\n",
              "<p>5 rows × 23 columns</p>\n",
              "</div>\n",
              "      <button class=\"colab-df-convert\" onclick=\"convertToInteractive('df-d7dd5a64-6f4f-4383-b063-d4a489584dfd')\"\n",
              "              title=\"Convert this dataframe to an interactive table.\"\n",
              "              style=\"display:none;\">\n",
              "        \n",
              "  <svg xmlns=\"http://www.w3.org/2000/svg\" height=\"24px\"viewBox=\"0 0 24 24\"\n",
              "       width=\"24px\">\n",
              "    <path d=\"M0 0h24v24H0V0z\" fill=\"none\"/>\n",
              "    <path d=\"M18.56 5.44l.94 2.06.94-2.06 2.06-.94-2.06-.94-.94-2.06-.94 2.06-2.06.94zm-11 1L8.5 8.5l.94-2.06 2.06-.94-2.06-.94L8.5 2.5l-.94 2.06-2.06.94zm10 10l.94 2.06.94-2.06 2.06-.94-2.06-.94-.94-2.06-.94 2.06-2.06.94z\"/><path d=\"M17.41 7.96l-1.37-1.37c-.4-.4-.92-.59-1.43-.59-.52 0-1.04.2-1.43.59L10.3 9.45l-7.72 7.72c-.78.78-.78 2.05 0 2.83L4 21.41c.39.39.9.59 1.41.59.51 0 1.02-.2 1.41-.59l7.78-7.78 2.81-2.81c.8-.78.8-2.07 0-2.86zM5.41 20L4 18.59l7.72-7.72 1.47 1.35L5.41 20z\"/>\n",
              "  </svg>\n",
              "      </button>\n",
              "      \n",
              "  <style>\n",
              "    .colab-df-container {\n",
              "      display:flex;\n",
              "      flex-wrap:wrap;\n",
              "      gap: 12px;\n",
              "    }\n",
              "\n",
              "    .colab-df-convert {\n",
              "      background-color: #E8F0FE;\n",
              "      border: none;\n",
              "      border-radius: 50%;\n",
              "      cursor: pointer;\n",
              "      display: none;\n",
              "      fill: #1967D2;\n",
              "      height: 32px;\n",
              "      padding: 0 0 0 0;\n",
              "      width: 32px;\n",
              "    }\n",
              "\n",
              "    .colab-df-convert:hover {\n",
              "      background-color: #E2EBFA;\n",
              "      box-shadow: 0px 1px 2px rgba(60, 64, 67, 0.3), 0px 1px 3px 1px rgba(60, 64, 67, 0.15);\n",
              "      fill: #174EA6;\n",
              "    }\n",
              "\n",
              "    [theme=dark] .colab-df-convert {\n",
              "      background-color: #3B4455;\n",
              "      fill: #D2E3FC;\n",
              "    }\n",
              "\n",
              "    [theme=dark] .colab-df-convert:hover {\n",
              "      background-color: #434B5C;\n",
              "      box-shadow: 0px 1px 3px 1px rgba(0, 0, 0, 0.15);\n",
              "      filter: drop-shadow(0px 1px 2px rgba(0, 0, 0, 0.3));\n",
              "      fill: #FFFFFF;\n",
              "    }\n",
              "  </style>\n",
              "\n",
              "      <script>\n",
              "        const buttonEl =\n",
              "          document.querySelector('#df-d7dd5a64-6f4f-4383-b063-d4a489584dfd button.colab-df-convert');\n",
              "        buttonEl.style.display =\n",
              "          google.colab.kernel.accessAllowed ? 'block' : 'none';\n",
              "\n",
              "        async function convertToInteractive(key) {\n",
              "          const element = document.querySelector('#df-d7dd5a64-6f4f-4383-b063-d4a489584dfd');\n",
              "          const dataTable =\n",
              "            await google.colab.kernel.invokeFunction('convertToInteractive',\n",
              "                                                     [key], {});\n",
              "          if (!dataTable) return;\n",
              "\n",
              "          const docLinkHtml = 'Like what you see? Visit the ' +\n",
              "            '<a target=\"_blank\" href=https://colab.research.google.com/notebooks/data_table.ipynb>data table notebook</a>'\n",
              "            + ' to learn more about interactive tables.';\n",
              "          element.innerHTML = '';\n",
              "          dataTable['output_type'] = 'display_data';\n",
              "          await google.colab.output.renderOutput(dataTable, element);\n",
              "          const docLink = document.createElement('div');\n",
              "          docLink.innerHTML = docLinkHtml;\n",
              "          element.appendChild(docLink);\n",
              "        }\n",
              "      </script>\n",
              "    </div>\n",
              "  </div>\n",
              "  "
            ]
          },
          "metadata": {},
          "execution_count": 35
        }
      ]
    },
    {
      "cell_type": "code",
      "source": [
        "mapping_status = {'Yes' : 1, 'No' : 0,}\n",
        "data['LowDoc'] = data['LowDoc'].map(mapping_status)\n",
        "data.head()"
      ],
      "metadata": {
        "colab": {
          "base_uri": "https://localhost:8080/",
          "height": 438
        },
        "id": "0oR6QzCaMKN0",
        "outputId": "8cc1c8b2-67df-4504-acbb-4c1e019e7e3e"
      },
      "execution_count": null,
      "outputs": [
        {
          "output_type": "execute_result",
          "data": {
            "text/plain": [
              "  LoanNr_ChkDgt                           Name          City State BankState  \\\n",
              "0    1000014003                 ABC HOBBYCRAFT    EVANSVILLE    IN        OH   \n",
              "1    1000024006    LANDMARK BAR & GRILLE (THE)     NEW PARIS    IN        IN   \n",
              "2    1000034009          WHITLOCK DDS, TODD M.   BLOOMINGTON    IN        IN   \n",
              "3    1000044001  BIG BUCKS PAWN & JEWELRY, LLC  BROKEN ARROW    OK        OK   \n",
              "4    1000054004    ANASTASIA CONFECTIONS, INC.       ORLANDO    FL        FL   \n",
              "\n",
              "      NAICS ApprovalDate  ApprovalFY      Term     NoEmp  ...  UrbanRural  \\\n",
              "0  451120.0   1997-02-28   -1.199884  0.060830 -0.048054  ...           0   \n",
              "1  722410.0   1997-02-28   -1.199884 -0.396535 -0.069662  ...           0   \n",
              "2  621210.0   1997-02-28   -1.199884  1.890291 -0.015642  ...           0   \n",
              "3       0.0   1997-02-28   -1.199884 -0.396535 -0.069662  ...           0   \n",
              "4       0.0   1997-02-28   -1.199884  3.033705  0.059987  ...           0   \n",
              "\n",
              "   RevLineCr  LowDoc  DisbursementDate  DisbursementGross  BalanceGross  \\\n",
              "0        NaN     NaN        1999-02-28          -0.245637           0.0   \n",
              "1        NaN     NaN        1997-05-31          -0.370580           0.0   \n",
              "2        NaN     NaN        1997-12-31           1.172466           0.0   \n",
              "3        NaN     NaN        1997-06-30          -0.401816           0.0   \n",
              "4        NaN     NaN        1997-05-14           0.810131           0.0   \n",
              "\n",
              "  MIS_Status  ChgOffPrinGr    GrAppv  SBA_Appv  \n",
              "0        NaN     -0.225168 -0.193202 -0.109025  \n",
              "1        NaN     -0.225168 -0.327603 -0.246394  \n",
              "2        NaN     -0.225168  1.332253  1.326916  \n",
              "3        NaN     -0.225168 -0.361204 -0.280737  \n",
              "4        NaN     -0.225168  0.942489  1.444968  \n",
              "\n",
              "[5 rows x 23 columns]"
            ],
            "text/html": [
              "\n",
              "  <div id=\"df-ba265bf6-c0d3-4e59-b788-9b8abd8fb440\">\n",
              "    <div class=\"colab-df-container\">\n",
              "      <div>\n",
              "<style scoped>\n",
              "    .dataframe tbody tr th:only-of-type {\n",
              "        vertical-align: middle;\n",
              "    }\n",
              "\n",
              "    .dataframe tbody tr th {\n",
              "        vertical-align: top;\n",
              "    }\n",
              "\n",
              "    .dataframe thead th {\n",
              "        text-align: right;\n",
              "    }\n",
              "</style>\n",
              "<table border=\"1\" class=\"dataframe\">\n",
              "  <thead>\n",
              "    <tr style=\"text-align: right;\">\n",
              "      <th></th>\n",
              "      <th>LoanNr_ChkDgt</th>\n",
              "      <th>Name</th>\n",
              "      <th>City</th>\n",
              "      <th>State</th>\n",
              "      <th>BankState</th>\n",
              "      <th>NAICS</th>\n",
              "      <th>ApprovalDate</th>\n",
              "      <th>ApprovalFY</th>\n",
              "      <th>Term</th>\n",
              "      <th>NoEmp</th>\n",
              "      <th>...</th>\n",
              "      <th>UrbanRural</th>\n",
              "      <th>RevLineCr</th>\n",
              "      <th>LowDoc</th>\n",
              "      <th>DisbursementDate</th>\n",
              "      <th>DisbursementGross</th>\n",
              "      <th>BalanceGross</th>\n",
              "      <th>MIS_Status</th>\n",
              "      <th>ChgOffPrinGr</th>\n",
              "      <th>GrAppv</th>\n",
              "      <th>SBA_Appv</th>\n",
              "    </tr>\n",
              "  </thead>\n",
              "  <tbody>\n",
              "    <tr>\n",
              "      <th>0</th>\n",
              "      <td>1000014003</td>\n",
              "      <td>ABC HOBBYCRAFT</td>\n",
              "      <td>EVANSVILLE</td>\n",
              "      <td>IN</td>\n",
              "      <td>OH</td>\n",
              "      <td>451120.0</td>\n",
              "      <td>1997-02-28</td>\n",
              "      <td>-1.199884</td>\n",
              "      <td>0.060830</td>\n",
              "      <td>-0.048054</td>\n",
              "      <td>...</td>\n",
              "      <td>0</td>\n",
              "      <td>NaN</td>\n",
              "      <td>NaN</td>\n",
              "      <td>1999-02-28</td>\n",
              "      <td>-0.245637</td>\n",
              "      <td>0.0</td>\n",
              "      <td>NaN</td>\n",
              "      <td>-0.225168</td>\n",
              "      <td>-0.193202</td>\n",
              "      <td>-0.109025</td>\n",
              "    </tr>\n",
              "    <tr>\n",
              "      <th>1</th>\n",
              "      <td>1000024006</td>\n",
              "      <td>LANDMARK BAR &amp; GRILLE (THE)</td>\n",
              "      <td>NEW PARIS</td>\n",
              "      <td>IN</td>\n",
              "      <td>IN</td>\n",
              "      <td>722410.0</td>\n",
              "      <td>1997-02-28</td>\n",
              "      <td>-1.199884</td>\n",
              "      <td>-0.396535</td>\n",
              "      <td>-0.069662</td>\n",
              "      <td>...</td>\n",
              "      <td>0</td>\n",
              "      <td>NaN</td>\n",
              "      <td>NaN</td>\n",
              "      <td>1997-05-31</td>\n",
              "      <td>-0.370580</td>\n",
              "      <td>0.0</td>\n",
              "      <td>NaN</td>\n",
              "      <td>-0.225168</td>\n",
              "      <td>-0.327603</td>\n",
              "      <td>-0.246394</td>\n",
              "    </tr>\n",
              "    <tr>\n",
              "      <th>2</th>\n",
              "      <td>1000034009</td>\n",
              "      <td>WHITLOCK DDS, TODD M.</td>\n",
              "      <td>BLOOMINGTON</td>\n",
              "      <td>IN</td>\n",
              "      <td>IN</td>\n",
              "      <td>621210.0</td>\n",
              "      <td>1997-02-28</td>\n",
              "      <td>-1.199884</td>\n",
              "      <td>1.890291</td>\n",
              "      <td>-0.015642</td>\n",
              "      <td>...</td>\n",
              "      <td>0</td>\n",
              "      <td>NaN</td>\n",
              "      <td>NaN</td>\n",
              "      <td>1997-12-31</td>\n",
              "      <td>1.172466</td>\n",
              "      <td>0.0</td>\n",
              "      <td>NaN</td>\n",
              "      <td>-0.225168</td>\n",
              "      <td>1.332253</td>\n",
              "      <td>1.326916</td>\n",
              "    </tr>\n",
              "    <tr>\n",
              "      <th>3</th>\n",
              "      <td>1000044001</td>\n",
              "      <td>BIG BUCKS PAWN &amp; JEWELRY, LLC</td>\n",
              "      <td>BROKEN ARROW</td>\n",
              "      <td>OK</td>\n",
              "      <td>OK</td>\n",
              "      <td>0.0</td>\n",
              "      <td>1997-02-28</td>\n",
              "      <td>-1.199884</td>\n",
              "      <td>-0.396535</td>\n",
              "      <td>-0.069662</td>\n",
              "      <td>...</td>\n",
              "      <td>0</td>\n",
              "      <td>NaN</td>\n",
              "      <td>NaN</td>\n",
              "      <td>1997-06-30</td>\n",
              "      <td>-0.401816</td>\n",
              "      <td>0.0</td>\n",
              "      <td>NaN</td>\n",
              "      <td>-0.225168</td>\n",
              "      <td>-0.361204</td>\n",
              "      <td>-0.280737</td>\n",
              "    </tr>\n",
              "    <tr>\n",
              "      <th>4</th>\n",
              "      <td>1000054004</td>\n",
              "      <td>ANASTASIA CONFECTIONS, INC.</td>\n",
              "      <td>ORLANDO</td>\n",
              "      <td>FL</td>\n",
              "      <td>FL</td>\n",
              "      <td>0.0</td>\n",
              "      <td>1997-02-28</td>\n",
              "      <td>-1.199884</td>\n",
              "      <td>3.033705</td>\n",
              "      <td>0.059987</td>\n",
              "      <td>...</td>\n",
              "      <td>0</td>\n",
              "      <td>NaN</td>\n",
              "      <td>NaN</td>\n",
              "      <td>1997-05-14</td>\n",
              "      <td>0.810131</td>\n",
              "      <td>0.0</td>\n",
              "      <td>NaN</td>\n",
              "      <td>-0.225168</td>\n",
              "      <td>0.942489</td>\n",
              "      <td>1.444968</td>\n",
              "    </tr>\n",
              "  </tbody>\n",
              "</table>\n",
              "<p>5 rows × 23 columns</p>\n",
              "</div>\n",
              "      <button class=\"colab-df-convert\" onclick=\"convertToInteractive('df-ba265bf6-c0d3-4e59-b788-9b8abd8fb440')\"\n",
              "              title=\"Convert this dataframe to an interactive table.\"\n",
              "              style=\"display:none;\">\n",
              "        \n",
              "  <svg xmlns=\"http://www.w3.org/2000/svg\" height=\"24px\"viewBox=\"0 0 24 24\"\n",
              "       width=\"24px\">\n",
              "    <path d=\"M0 0h24v24H0V0z\" fill=\"none\"/>\n",
              "    <path d=\"M18.56 5.44l.94 2.06.94-2.06 2.06-.94-2.06-.94-.94-2.06-.94 2.06-2.06.94zm-11 1L8.5 8.5l.94-2.06 2.06-.94-2.06-.94L8.5 2.5l-.94 2.06-2.06.94zm10 10l.94 2.06.94-2.06 2.06-.94-2.06-.94-.94-2.06-.94 2.06-2.06.94z\"/><path d=\"M17.41 7.96l-1.37-1.37c-.4-.4-.92-.59-1.43-.59-.52 0-1.04.2-1.43.59L10.3 9.45l-7.72 7.72c-.78.78-.78 2.05 0 2.83L4 21.41c.39.39.9.59 1.41.59.51 0 1.02-.2 1.41-.59l7.78-7.78 2.81-2.81c.8-.78.8-2.07 0-2.86zM5.41 20L4 18.59l7.72-7.72 1.47 1.35L5.41 20z\"/>\n",
              "  </svg>\n",
              "      </button>\n",
              "      \n",
              "  <style>\n",
              "    .colab-df-container {\n",
              "      display:flex;\n",
              "      flex-wrap:wrap;\n",
              "      gap: 12px;\n",
              "    }\n",
              "\n",
              "    .colab-df-convert {\n",
              "      background-color: #E8F0FE;\n",
              "      border: none;\n",
              "      border-radius: 50%;\n",
              "      cursor: pointer;\n",
              "      display: none;\n",
              "      fill: #1967D2;\n",
              "      height: 32px;\n",
              "      padding: 0 0 0 0;\n",
              "      width: 32px;\n",
              "    }\n",
              "\n",
              "    .colab-df-convert:hover {\n",
              "      background-color: #E2EBFA;\n",
              "      box-shadow: 0px 1px 2px rgba(60, 64, 67, 0.3), 0px 1px 3px 1px rgba(60, 64, 67, 0.15);\n",
              "      fill: #174EA6;\n",
              "    }\n",
              "\n",
              "    [theme=dark] .colab-df-convert {\n",
              "      background-color: #3B4455;\n",
              "      fill: #D2E3FC;\n",
              "    }\n",
              "\n",
              "    [theme=dark] .colab-df-convert:hover {\n",
              "      background-color: #434B5C;\n",
              "      box-shadow: 0px 1px 3px 1px rgba(0, 0, 0, 0.15);\n",
              "      filter: drop-shadow(0px 1px 2px rgba(0, 0, 0, 0.3));\n",
              "      fill: #FFFFFF;\n",
              "    }\n",
              "  </style>\n",
              "\n",
              "      <script>\n",
              "        const buttonEl =\n",
              "          document.querySelector('#df-ba265bf6-c0d3-4e59-b788-9b8abd8fb440 button.colab-df-convert');\n",
              "        buttonEl.style.display =\n",
              "          google.colab.kernel.accessAllowed ? 'block' : 'none';\n",
              "\n",
              "        async function convertToInteractive(key) {\n",
              "          const element = document.querySelector('#df-ba265bf6-c0d3-4e59-b788-9b8abd8fb440');\n",
              "          const dataTable =\n",
              "            await google.colab.kernel.invokeFunction('convertToInteractive',\n",
              "                                                     [key], {});\n",
              "          if (!dataTable) return;\n",
              "\n",
              "          const docLinkHtml = 'Like what you see? Visit the ' +\n",
              "            '<a target=\"_blank\" href=https://colab.research.google.com/notebooks/data_table.ipynb>data table notebook</a>'\n",
              "            + ' to learn more about interactive tables.';\n",
              "          element.innerHTML = '';\n",
              "          dataTable['output_type'] = 'display_data';\n",
              "          await google.colab.output.renderOutput(dataTable, element);\n",
              "          const docLink = document.createElement('div');\n",
              "          docLink.innerHTML = docLinkHtml;\n",
              "          element.appendChild(docLink);\n",
              "        }\n",
              "      </script>\n",
              "    </div>\n",
              "  </div>\n",
              "  "
            ]
          },
          "metadata": {},
          "execution_count": 36
        }
      ]
    },
    {
      "cell_type": "code",
      "source": [
        "mapping_status = {'Yes' : 1, 'No' : 0,}\n",
        "data['UrbanRural'] = data['UrbanRural'].map(mapping_status)\n",
        "data.head()"
      ],
      "metadata": {
        "colab": {
          "base_uri": "https://localhost:8080/",
          "height": 438
        },
        "id": "ucJ4GdfhMXSj",
        "outputId": "89445d35-d0b5-4322-9a6d-725b18479372"
      },
      "execution_count": null,
      "outputs": [
        {
          "output_type": "execute_result",
          "data": {
            "text/plain": [
              "  LoanNr_ChkDgt                           Name          City State BankState  \\\n",
              "0    1000014003                 ABC HOBBYCRAFT    EVANSVILLE    IN        OH   \n",
              "1    1000024006    LANDMARK BAR & GRILLE (THE)     NEW PARIS    IN        IN   \n",
              "2    1000034009          WHITLOCK DDS, TODD M.   BLOOMINGTON    IN        IN   \n",
              "3    1000044001  BIG BUCKS PAWN & JEWELRY, LLC  BROKEN ARROW    OK        OK   \n",
              "4    1000054004    ANASTASIA CONFECTIONS, INC.       ORLANDO    FL        FL   \n",
              "\n",
              "      NAICS ApprovalDate  ApprovalFY      Term     NoEmp  ...  UrbanRural  \\\n",
              "0  451120.0   1997-02-28   -1.199884  0.060830 -0.048054  ...         NaN   \n",
              "1  722410.0   1997-02-28   -1.199884 -0.396535 -0.069662  ...         NaN   \n",
              "2  621210.0   1997-02-28   -1.199884  1.890291 -0.015642  ...         NaN   \n",
              "3       0.0   1997-02-28   -1.199884 -0.396535 -0.069662  ...         NaN   \n",
              "4       0.0   1997-02-28   -1.199884  3.033705  0.059987  ...         NaN   \n",
              "\n",
              "   RevLineCr  LowDoc  DisbursementDate  DisbursementGross  BalanceGross  \\\n",
              "0        NaN     NaN        1999-02-28          -0.245637           0.0   \n",
              "1        NaN     NaN        1997-05-31          -0.370580           0.0   \n",
              "2        NaN     NaN        1997-12-31           1.172466           0.0   \n",
              "3        NaN     NaN        1997-06-30          -0.401816           0.0   \n",
              "4        NaN     NaN        1997-05-14           0.810131           0.0   \n",
              "\n",
              "  MIS_Status  ChgOffPrinGr    GrAppv  SBA_Appv  \n",
              "0        NaN     -0.225168 -0.193202 -0.109025  \n",
              "1        NaN     -0.225168 -0.327603 -0.246394  \n",
              "2        NaN     -0.225168  1.332253  1.326916  \n",
              "3        NaN     -0.225168 -0.361204 -0.280737  \n",
              "4        NaN     -0.225168  0.942489  1.444968  \n",
              "\n",
              "[5 rows x 23 columns]"
            ],
            "text/html": [
              "\n",
              "  <div id=\"df-ead44272-d3fd-4352-b6ed-65a00c82d9fe\">\n",
              "    <div class=\"colab-df-container\">\n",
              "      <div>\n",
              "<style scoped>\n",
              "    .dataframe tbody tr th:only-of-type {\n",
              "        vertical-align: middle;\n",
              "    }\n",
              "\n",
              "    .dataframe tbody tr th {\n",
              "        vertical-align: top;\n",
              "    }\n",
              "\n",
              "    .dataframe thead th {\n",
              "        text-align: right;\n",
              "    }\n",
              "</style>\n",
              "<table border=\"1\" class=\"dataframe\">\n",
              "  <thead>\n",
              "    <tr style=\"text-align: right;\">\n",
              "      <th></th>\n",
              "      <th>LoanNr_ChkDgt</th>\n",
              "      <th>Name</th>\n",
              "      <th>City</th>\n",
              "      <th>State</th>\n",
              "      <th>BankState</th>\n",
              "      <th>NAICS</th>\n",
              "      <th>ApprovalDate</th>\n",
              "      <th>ApprovalFY</th>\n",
              "      <th>Term</th>\n",
              "      <th>NoEmp</th>\n",
              "      <th>...</th>\n",
              "      <th>UrbanRural</th>\n",
              "      <th>RevLineCr</th>\n",
              "      <th>LowDoc</th>\n",
              "      <th>DisbursementDate</th>\n",
              "      <th>DisbursementGross</th>\n",
              "      <th>BalanceGross</th>\n",
              "      <th>MIS_Status</th>\n",
              "      <th>ChgOffPrinGr</th>\n",
              "      <th>GrAppv</th>\n",
              "      <th>SBA_Appv</th>\n",
              "    </tr>\n",
              "  </thead>\n",
              "  <tbody>\n",
              "    <tr>\n",
              "      <th>0</th>\n",
              "      <td>1000014003</td>\n",
              "      <td>ABC HOBBYCRAFT</td>\n",
              "      <td>EVANSVILLE</td>\n",
              "      <td>IN</td>\n",
              "      <td>OH</td>\n",
              "      <td>451120.0</td>\n",
              "      <td>1997-02-28</td>\n",
              "      <td>-1.199884</td>\n",
              "      <td>0.060830</td>\n",
              "      <td>-0.048054</td>\n",
              "      <td>...</td>\n",
              "      <td>NaN</td>\n",
              "      <td>NaN</td>\n",
              "      <td>NaN</td>\n",
              "      <td>1999-02-28</td>\n",
              "      <td>-0.245637</td>\n",
              "      <td>0.0</td>\n",
              "      <td>NaN</td>\n",
              "      <td>-0.225168</td>\n",
              "      <td>-0.193202</td>\n",
              "      <td>-0.109025</td>\n",
              "    </tr>\n",
              "    <tr>\n",
              "      <th>1</th>\n",
              "      <td>1000024006</td>\n",
              "      <td>LANDMARK BAR &amp; GRILLE (THE)</td>\n",
              "      <td>NEW PARIS</td>\n",
              "      <td>IN</td>\n",
              "      <td>IN</td>\n",
              "      <td>722410.0</td>\n",
              "      <td>1997-02-28</td>\n",
              "      <td>-1.199884</td>\n",
              "      <td>-0.396535</td>\n",
              "      <td>-0.069662</td>\n",
              "      <td>...</td>\n",
              "      <td>NaN</td>\n",
              "      <td>NaN</td>\n",
              "      <td>NaN</td>\n",
              "      <td>1997-05-31</td>\n",
              "      <td>-0.370580</td>\n",
              "      <td>0.0</td>\n",
              "      <td>NaN</td>\n",
              "      <td>-0.225168</td>\n",
              "      <td>-0.327603</td>\n",
              "      <td>-0.246394</td>\n",
              "    </tr>\n",
              "    <tr>\n",
              "      <th>2</th>\n",
              "      <td>1000034009</td>\n",
              "      <td>WHITLOCK DDS, TODD M.</td>\n",
              "      <td>BLOOMINGTON</td>\n",
              "      <td>IN</td>\n",
              "      <td>IN</td>\n",
              "      <td>621210.0</td>\n",
              "      <td>1997-02-28</td>\n",
              "      <td>-1.199884</td>\n",
              "      <td>1.890291</td>\n",
              "      <td>-0.015642</td>\n",
              "      <td>...</td>\n",
              "      <td>NaN</td>\n",
              "      <td>NaN</td>\n",
              "      <td>NaN</td>\n",
              "      <td>1997-12-31</td>\n",
              "      <td>1.172466</td>\n",
              "      <td>0.0</td>\n",
              "      <td>NaN</td>\n",
              "      <td>-0.225168</td>\n",
              "      <td>1.332253</td>\n",
              "      <td>1.326916</td>\n",
              "    </tr>\n",
              "    <tr>\n",
              "      <th>3</th>\n",
              "      <td>1000044001</td>\n",
              "      <td>BIG BUCKS PAWN &amp; JEWELRY, LLC</td>\n",
              "      <td>BROKEN ARROW</td>\n",
              "      <td>OK</td>\n",
              "      <td>OK</td>\n",
              "      <td>0.0</td>\n",
              "      <td>1997-02-28</td>\n",
              "      <td>-1.199884</td>\n",
              "      <td>-0.396535</td>\n",
              "      <td>-0.069662</td>\n",
              "      <td>...</td>\n",
              "      <td>NaN</td>\n",
              "      <td>NaN</td>\n",
              "      <td>NaN</td>\n",
              "      <td>1997-06-30</td>\n",
              "      <td>-0.401816</td>\n",
              "      <td>0.0</td>\n",
              "      <td>NaN</td>\n",
              "      <td>-0.225168</td>\n",
              "      <td>-0.361204</td>\n",
              "      <td>-0.280737</td>\n",
              "    </tr>\n",
              "    <tr>\n",
              "      <th>4</th>\n",
              "      <td>1000054004</td>\n",
              "      <td>ANASTASIA CONFECTIONS, INC.</td>\n",
              "      <td>ORLANDO</td>\n",
              "      <td>FL</td>\n",
              "      <td>FL</td>\n",
              "      <td>0.0</td>\n",
              "      <td>1997-02-28</td>\n",
              "      <td>-1.199884</td>\n",
              "      <td>3.033705</td>\n",
              "      <td>0.059987</td>\n",
              "      <td>...</td>\n",
              "      <td>NaN</td>\n",
              "      <td>NaN</td>\n",
              "      <td>NaN</td>\n",
              "      <td>1997-05-14</td>\n",
              "      <td>0.810131</td>\n",
              "      <td>0.0</td>\n",
              "      <td>NaN</td>\n",
              "      <td>-0.225168</td>\n",
              "      <td>0.942489</td>\n",
              "      <td>1.444968</td>\n",
              "    </tr>\n",
              "  </tbody>\n",
              "</table>\n",
              "<p>5 rows × 23 columns</p>\n",
              "</div>\n",
              "      <button class=\"colab-df-convert\" onclick=\"convertToInteractive('df-ead44272-d3fd-4352-b6ed-65a00c82d9fe')\"\n",
              "              title=\"Convert this dataframe to an interactive table.\"\n",
              "              style=\"display:none;\">\n",
              "        \n",
              "  <svg xmlns=\"http://www.w3.org/2000/svg\" height=\"24px\"viewBox=\"0 0 24 24\"\n",
              "       width=\"24px\">\n",
              "    <path d=\"M0 0h24v24H0V0z\" fill=\"none\"/>\n",
              "    <path d=\"M18.56 5.44l.94 2.06.94-2.06 2.06-.94-2.06-.94-.94-2.06-.94 2.06-2.06.94zm-11 1L8.5 8.5l.94-2.06 2.06-.94-2.06-.94L8.5 2.5l-.94 2.06-2.06.94zm10 10l.94 2.06.94-2.06 2.06-.94-2.06-.94-.94-2.06-.94 2.06-2.06.94z\"/><path d=\"M17.41 7.96l-1.37-1.37c-.4-.4-.92-.59-1.43-.59-.52 0-1.04.2-1.43.59L10.3 9.45l-7.72 7.72c-.78.78-.78 2.05 0 2.83L4 21.41c.39.39.9.59 1.41.59.51 0 1.02-.2 1.41-.59l7.78-7.78 2.81-2.81c.8-.78.8-2.07 0-2.86zM5.41 20L4 18.59l7.72-7.72 1.47 1.35L5.41 20z\"/>\n",
              "  </svg>\n",
              "      </button>\n",
              "      \n",
              "  <style>\n",
              "    .colab-df-container {\n",
              "      display:flex;\n",
              "      flex-wrap:wrap;\n",
              "      gap: 12px;\n",
              "    }\n",
              "\n",
              "    .colab-df-convert {\n",
              "      background-color: #E8F0FE;\n",
              "      border: none;\n",
              "      border-radius: 50%;\n",
              "      cursor: pointer;\n",
              "      display: none;\n",
              "      fill: #1967D2;\n",
              "      height: 32px;\n",
              "      padding: 0 0 0 0;\n",
              "      width: 32px;\n",
              "    }\n",
              "\n",
              "    .colab-df-convert:hover {\n",
              "      background-color: #E2EBFA;\n",
              "      box-shadow: 0px 1px 2px rgba(60, 64, 67, 0.3), 0px 1px 3px 1px rgba(60, 64, 67, 0.15);\n",
              "      fill: #174EA6;\n",
              "    }\n",
              "\n",
              "    [theme=dark] .colab-df-convert {\n",
              "      background-color: #3B4455;\n",
              "      fill: #D2E3FC;\n",
              "    }\n",
              "\n",
              "    [theme=dark] .colab-df-convert:hover {\n",
              "      background-color: #434B5C;\n",
              "      box-shadow: 0px 1px 3px 1px rgba(0, 0, 0, 0.15);\n",
              "      filter: drop-shadow(0px 1px 2px rgba(0, 0, 0, 0.3));\n",
              "      fill: #FFFFFF;\n",
              "    }\n",
              "  </style>\n",
              "\n",
              "      <script>\n",
              "        const buttonEl =\n",
              "          document.querySelector('#df-ead44272-d3fd-4352-b6ed-65a00c82d9fe button.colab-df-convert');\n",
              "        buttonEl.style.display =\n",
              "          google.colab.kernel.accessAllowed ? 'block' : 'none';\n",
              "\n",
              "        async function convertToInteractive(key) {\n",
              "          const element = document.querySelector('#df-ead44272-d3fd-4352-b6ed-65a00c82d9fe');\n",
              "          const dataTable =\n",
              "            await google.colab.kernel.invokeFunction('convertToInteractive',\n",
              "                                                     [key], {});\n",
              "          if (!dataTable) return;\n",
              "\n",
              "          const docLinkHtml = 'Like what you see? Visit the ' +\n",
              "            '<a target=\"_blank\" href=https://colab.research.google.com/notebooks/data_table.ipynb>data table notebook</a>'\n",
              "            + ' to learn more about interactive tables.';\n",
              "          element.innerHTML = '';\n",
              "          dataTable['output_type'] = 'display_data';\n",
              "          await google.colab.output.renderOutput(dataTable, element);\n",
              "          const docLink = document.createElement('div');\n",
              "          docLink.innerHTML = docLinkHtml;\n",
              "          element.appendChild(docLink);\n",
              "        }\n",
              "      </script>\n",
              "    </div>\n",
              "  </div>\n",
              "  "
            ]
          },
          "metadata": {},
          "execution_count": 37
        }
      ]
    },
    {
      "cell_type": "code",
      "source": [
        "data.info()"
      ],
      "metadata": {
        "colab": {
          "base_uri": "https://localhost:8080/"
        },
        "id": "WkdRz6TZRGYc",
        "outputId": "f177c350-02a9-48f4-bda7-040aba1aa1b2"
      },
      "execution_count": null,
      "outputs": [
        {
          "output_type": "stream",
          "name": "stdout",
          "text": [
            "<class 'pandas.core.frame.DataFrame'>\n",
            "Int64Index: 12509 entries, 0 to 15566\n",
            "Data columns (total 23 columns):\n",
            " #   Column             Non-Null Count  Dtype         \n",
            "---  ------             --------------  -----         \n",
            " 0   LoanNr_ChkDgt      12509 non-null  object        \n",
            " 1   Name               12509 non-null  object        \n",
            " 2   City               12509 non-null  object        \n",
            " 3   State              12509 non-null  object        \n",
            " 4   BankState          12509 non-null  object        \n",
            " 5   NAICS              12509 non-null  object        \n",
            " 6   ApprovalDate       12509 non-null  datetime64[ns]\n",
            " 7   ApprovalFY         12509 non-null  float64       \n",
            " 8   Term               12509 non-null  float64       \n",
            " 9   NoEmp              12509 non-null  float64       \n",
            " 10  NewExist           12509 non-null  int64         \n",
            " 11  CreateJob          12509 non-null  float64       \n",
            " 12  RetainedJob        12509 non-null  float64       \n",
            " 13  UrbanRural         0 non-null      float64       \n",
            " 14  RevLineCr          0 non-null      float64       \n",
            " 15  LowDoc             0 non-null      float64       \n",
            " 16  DisbursementDate   12509 non-null  datetime64[ns]\n",
            " 17  DisbursementGross  12509 non-null  float64       \n",
            " 18  BalanceGross       12509 non-null  float64       \n",
            " 19  MIS_Status         0 non-null      float64       \n",
            " 20  ChgOffPrinGr       12509 non-null  float64       \n",
            " 21  GrAppv             12509 non-null  float64       \n",
            " 22  SBA_Appv           12509 non-null  float64       \n",
            "dtypes: datetime64[ns](2), float64(14), int64(1), object(6)\n",
            "memory usage: 2.3+ MB\n"
          ]
        }
      ]
    },
    {
      "cell_type": "markdown",
      "source": [
        "### 1.F Handle class imbalance"
      ],
      "metadata": {
        "id": "TEF4Rni3sPJp"
      }
    },
    {
      "cell_type": "code",
      "source": [
        "#Handle class imbalance"
      ],
      "metadata": {
        "id": "-jwv9xtSUvJm"
      },
      "execution_count": null,
      "outputs": []
    },
    {
      "cell_type": "code",
      "source": [
        "minority = data[data['MIS_Status'] == 1]\n",
        "majority = data[data['MIS_Status'] == 0]"
      ],
      "metadata": {
        "id": "vKmhQEIkMws9"
      },
      "execution_count": null,
      "outputs": []
    },
    {
      "cell_type": "code",
      "source": [
        "df = data.dropna(subset=['MIS_Status'])"
      ],
      "metadata": {
        "id": "_Gki8L6N4l37"
      },
      "execution_count": null,
      "outputs": []
    },
    {
      "cell_type": "code",
      "source": [
        "from imblearn.under_sampling import RandomUnderSampler\n",
        "from imblearn.over_sampling import RandomOverSampler\n",
        "\n",
        "\n",
        "# Define X and y\n",
        "X = df.drop(['MIS_Status'], axis=1)\n",
        "y = df['MIS_Status']\n",
        "\n",
        "# Undersample the majority class\n",
        "rus = RandomUnderSampler(random_state=42)\n",
        "X_resampled, y_resampled = rus.fit_resample(X, y)\n",
        "\n",
        "# Oversample the minority class\n",
        "ros = RandomOverSampler(random_state=42)\n",
        "X_resampled, y_resampled = ros.fit_resample(X_resampled, y_resampled)"
      ],
      "metadata": {
        "colab": {
          "base_uri": "https://localhost:8080/",
          "height": 398
        },
        "id": "FzXuG2TzSkar",
        "outputId": "6391d048-a1db-4063-d0f3-b5f13cf9e499"
      },
      "execution_count": null,
      "outputs": [
        {
          "output_type": "error",
          "ename": "ValueError",
          "evalue": "ignored",
          "traceback": [
            "\u001b[0;31m---------------------------------------------------------------------------\u001b[0m",
            "\u001b[0;31mValueError\u001b[0m                                Traceback (most recent call last)",
            "\u001b[0;32m<ipython-input-42-1139f3cea000>\u001b[0m in \u001b[0;36m<cell line: 11>\u001b[0;34m()\u001b[0m\n\u001b[1;32m      9\u001b[0m \u001b[0;31m# Undersample the majority class\u001b[0m\u001b[0;34m\u001b[0m\u001b[0;34m\u001b[0m\u001b[0m\n\u001b[1;32m     10\u001b[0m \u001b[0mrus\u001b[0m \u001b[0;34m=\u001b[0m \u001b[0mRandomUnderSampler\u001b[0m\u001b[0;34m(\u001b[0m\u001b[0mrandom_state\u001b[0m\u001b[0;34m=\u001b[0m\u001b[0;36m42\u001b[0m\u001b[0;34m)\u001b[0m\u001b[0;34m\u001b[0m\u001b[0;34m\u001b[0m\u001b[0m\n\u001b[0;32m---> 11\u001b[0;31m \u001b[0mX_resampled\u001b[0m\u001b[0;34m,\u001b[0m \u001b[0my_resampled\u001b[0m \u001b[0;34m=\u001b[0m \u001b[0mrus\u001b[0m\u001b[0;34m.\u001b[0m\u001b[0mfit_resample\u001b[0m\u001b[0;34m(\u001b[0m\u001b[0mX\u001b[0m\u001b[0;34m,\u001b[0m \u001b[0my\u001b[0m\u001b[0;34m)\u001b[0m\u001b[0;34m\u001b[0m\u001b[0;34m\u001b[0m\u001b[0m\n\u001b[0m\u001b[1;32m     12\u001b[0m \u001b[0;34m\u001b[0m\u001b[0m\n\u001b[1;32m     13\u001b[0m \u001b[0;31m# Oversample the minority class\u001b[0m\u001b[0;34m\u001b[0m\u001b[0;34m\u001b[0m\u001b[0m\n",
            "\u001b[0;32m/usr/local/lib/python3.9/dist-packages/imblearn/base.py\u001b[0m in \u001b[0;36mfit_resample\u001b[0;34m(self, X, y)\u001b[0m\n\u001b[1;32m    201\u001b[0m         \"\"\"\n\u001b[1;32m    202\u001b[0m         \u001b[0mself\u001b[0m\u001b[0;34m.\u001b[0m\u001b[0m_validate_params\u001b[0m\u001b[0;34m(\u001b[0m\u001b[0;34m)\u001b[0m\u001b[0;34m\u001b[0m\u001b[0;34m\u001b[0m\u001b[0m\n\u001b[0;32m--> 203\u001b[0;31m         \u001b[0;32mreturn\u001b[0m \u001b[0msuper\u001b[0m\u001b[0;34m(\u001b[0m\u001b[0;34m)\u001b[0m\u001b[0;34m.\u001b[0m\u001b[0mfit_resample\u001b[0m\u001b[0;34m(\u001b[0m\u001b[0mX\u001b[0m\u001b[0;34m,\u001b[0m \u001b[0my\u001b[0m\u001b[0;34m)\u001b[0m\u001b[0;34m\u001b[0m\u001b[0;34m\u001b[0m\u001b[0m\n\u001b[0m\u001b[1;32m    204\u001b[0m \u001b[0;34m\u001b[0m\u001b[0m\n\u001b[1;32m    205\u001b[0m     \u001b[0;32mdef\u001b[0m \u001b[0m_more_tags\u001b[0m\u001b[0;34m(\u001b[0m\u001b[0mself\u001b[0m\u001b[0;34m)\u001b[0m\u001b[0;34m:\u001b[0m\u001b[0;34m\u001b[0m\u001b[0;34m\u001b[0m\u001b[0m\n",
            "\u001b[0;32m/usr/local/lib/python3.9/dist-packages/imblearn/base.py\u001b[0m in \u001b[0;36mfit_resample\u001b[0;34m(self, X, y)\u001b[0m\n\u001b[1;32m     80\u001b[0m         \u001b[0mcheck_classification_targets\u001b[0m\u001b[0;34m(\u001b[0m\u001b[0my\u001b[0m\u001b[0;34m)\u001b[0m\u001b[0;34m\u001b[0m\u001b[0;34m\u001b[0m\u001b[0m\n\u001b[1;32m     81\u001b[0m         \u001b[0marrays_transformer\u001b[0m \u001b[0;34m=\u001b[0m \u001b[0mArraysTransformer\u001b[0m\u001b[0;34m(\u001b[0m\u001b[0mX\u001b[0m\u001b[0;34m,\u001b[0m \u001b[0my\u001b[0m\u001b[0;34m)\u001b[0m\u001b[0;34m\u001b[0m\u001b[0;34m\u001b[0m\u001b[0m\n\u001b[0;32m---> 82\u001b[0;31m         \u001b[0mX\u001b[0m\u001b[0;34m,\u001b[0m \u001b[0my\u001b[0m\u001b[0;34m,\u001b[0m \u001b[0mbinarize_y\u001b[0m \u001b[0;34m=\u001b[0m \u001b[0mself\u001b[0m\u001b[0;34m.\u001b[0m\u001b[0m_check_X_y\u001b[0m\u001b[0;34m(\u001b[0m\u001b[0mX\u001b[0m\u001b[0;34m,\u001b[0m \u001b[0my\u001b[0m\u001b[0;34m)\u001b[0m\u001b[0;34m\u001b[0m\u001b[0;34m\u001b[0m\u001b[0m\n\u001b[0m\u001b[1;32m     83\u001b[0m \u001b[0;34m\u001b[0m\u001b[0m\n\u001b[1;32m     84\u001b[0m         self.sampling_strategy_ = check_sampling_strategy(\n",
            "\u001b[0;32m/usr/local/lib/python3.9/dist-packages/imblearn/under_sampling/_prototype_selection/_random_under_sampler.py\u001b[0m in \u001b[0;36m_check_X_y\u001b[0;34m(self, X, y)\u001b[0m\n\u001b[1;32m     98\u001b[0m     \u001b[0;32mdef\u001b[0m \u001b[0m_check_X_y\u001b[0m\u001b[0;34m(\u001b[0m\u001b[0mself\u001b[0m\u001b[0;34m,\u001b[0m \u001b[0mX\u001b[0m\u001b[0;34m,\u001b[0m \u001b[0my\u001b[0m\u001b[0;34m)\u001b[0m\u001b[0;34m:\u001b[0m\u001b[0;34m\u001b[0m\u001b[0;34m\u001b[0m\u001b[0m\n\u001b[1;32m     99\u001b[0m         \u001b[0my\u001b[0m\u001b[0;34m,\u001b[0m \u001b[0mbinarize_y\u001b[0m \u001b[0;34m=\u001b[0m \u001b[0mcheck_target_type\u001b[0m\u001b[0;34m(\u001b[0m\u001b[0my\u001b[0m\u001b[0;34m,\u001b[0m \u001b[0mindicate_one_vs_all\u001b[0m\u001b[0;34m=\u001b[0m\u001b[0;32mTrue\u001b[0m\u001b[0;34m)\u001b[0m\u001b[0;34m\u001b[0m\u001b[0;34m\u001b[0m\u001b[0m\n\u001b[0;32m--> 100\u001b[0;31m         X, y = self._validate_data(\n\u001b[0m\u001b[1;32m    101\u001b[0m             \u001b[0mX\u001b[0m\u001b[0;34m,\u001b[0m\u001b[0;34m\u001b[0m\u001b[0;34m\u001b[0m\u001b[0m\n\u001b[1;32m    102\u001b[0m             \u001b[0my\u001b[0m\u001b[0;34m,\u001b[0m\u001b[0;34m\u001b[0m\u001b[0;34m\u001b[0m\u001b[0m\n",
            "\u001b[0;32m/usr/local/lib/python3.9/dist-packages/sklearn/base.py\u001b[0m in \u001b[0;36m_validate_data\u001b[0;34m(self, X, y, reset, validate_separately, **check_params)\u001b[0m\n\u001b[1;32m    582\u001b[0m                 \u001b[0my\u001b[0m \u001b[0;34m=\u001b[0m \u001b[0mcheck_array\u001b[0m\u001b[0;34m(\u001b[0m\u001b[0my\u001b[0m\u001b[0;34m,\u001b[0m \u001b[0minput_name\u001b[0m\u001b[0;34m=\u001b[0m\u001b[0;34m\"y\"\u001b[0m\u001b[0;34m,\u001b[0m \u001b[0;34m**\u001b[0m\u001b[0mcheck_y_params\u001b[0m\u001b[0;34m)\u001b[0m\u001b[0;34m\u001b[0m\u001b[0;34m\u001b[0m\u001b[0m\n\u001b[1;32m    583\u001b[0m             \u001b[0;32melse\u001b[0m\u001b[0;34m:\u001b[0m\u001b[0;34m\u001b[0m\u001b[0;34m\u001b[0m\u001b[0m\n\u001b[0;32m--> 584\u001b[0;31m                 \u001b[0mX\u001b[0m\u001b[0;34m,\u001b[0m \u001b[0my\u001b[0m \u001b[0;34m=\u001b[0m \u001b[0mcheck_X_y\u001b[0m\u001b[0;34m(\u001b[0m\u001b[0mX\u001b[0m\u001b[0;34m,\u001b[0m \u001b[0my\u001b[0m\u001b[0;34m,\u001b[0m \u001b[0;34m**\u001b[0m\u001b[0mcheck_params\u001b[0m\u001b[0;34m)\u001b[0m\u001b[0;34m\u001b[0m\u001b[0;34m\u001b[0m\u001b[0m\n\u001b[0m\u001b[1;32m    585\u001b[0m             \u001b[0mout\u001b[0m \u001b[0;34m=\u001b[0m \u001b[0mX\u001b[0m\u001b[0;34m,\u001b[0m \u001b[0my\u001b[0m\u001b[0;34m\u001b[0m\u001b[0;34m\u001b[0m\u001b[0m\n\u001b[1;32m    586\u001b[0m \u001b[0;34m\u001b[0m\u001b[0m\n",
            "\u001b[0;32m/usr/local/lib/python3.9/dist-packages/sklearn/utils/validation.py\u001b[0m in \u001b[0;36mcheck_X_y\u001b[0;34m(X, y, accept_sparse, accept_large_sparse, dtype, order, copy, force_all_finite, ensure_2d, allow_nd, multi_output, ensure_min_samples, ensure_min_features, y_numeric, estimator)\u001b[0m\n\u001b[1;32m   1104\u001b[0m         )\n\u001b[1;32m   1105\u001b[0m \u001b[0;34m\u001b[0m\u001b[0m\n\u001b[0;32m-> 1106\u001b[0;31m     X = check_array(\n\u001b[0m\u001b[1;32m   1107\u001b[0m         \u001b[0mX\u001b[0m\u001b[0;34m,\u001b[0m\u001b[0;34m\u001b[0m\u001b[0;34m\u001b[0m\u001b[0m\n\u001b[1;32m   1108\u001b[0m         \u001b[0maccept_sparse\u001b[0m\u001b[0;34m=\u001b[0m\u001b[0maccept_sparse\u001b[0m\u001b[0;34m,\u001b[0m\u001b[0;34m\u001b[0m\u001b[0;34m\u001b[0m\u001b[0m\n",
            "\u001b[0;32m/usr/local/lib/python3.9/dist-packages/sklearn/utils/validation.py\u001b[0m in \u001b[0;36mcheck_array\u001b[0;34m(array, accept_sparse, accept_large_sparse, dtype, order, copy, force_all_finite, ensure_2d, allow_nd, ensure_min_samples, ensure_min_features, estimator, input_name)\u001b[0m\n\u001b[1;32m    929\u001b[0m         \u001b[0mn_samples\u001b[0m \u001b[0;34m=\u001b[0m \u001b[0m_num_samples\u001b[0m\u001b[0;34m(\u001b[0m\u001b[0marray\u001b[0m\u001b[0;34m)\u001b[0m\u001b[0;34m\u001b[0m\u001b[0;34m\u001b[0m\u001b[0m\n\u001b[1;32m    930\u001b[0m         \u001b[0;32mif\u001b[0m \u001b[0mn_samples\u001b[0m \u001b[0;34m<\u001b[0m \u001b[0mensure_min_samples\u001b[0m\u001b[0;34m:\u001b[0m\u001b[0;34m\u001b[0m\u001b[0;34m\u001b[0m\u001b[0m\n\u001b[0;32m--> 931\u001b[0;31m             raise ValueError(\n\u001b[0m\u001b[1;32m    932\u001b[0m                 \u001b[0;34m\"Found array with %d sample(s) (shape=%s) while a\"\u001b[0m\u001b[0;34m\u001b[0m\u001b[0;34m\u001b[0m\u001b[0m\n\u001b[1;32m    933\u001b[0m                 \u001b[0;34m\" minimum of %d is required%s.\"\u001b[0m\u001b[0;34m\u001b[0m\u001b[0;34m\u001b[0m\u001b[0m\n",
            "\u001b[0;31mValueError\u001b[0m: Found array with 0 sample(s) (shape=(0, 22)) while a minimum of 1 is required by RandomUnderSampler."
          ]
        }
      ]
    },
    {
      "cell_type": "markdown",
      "source": [
        "## **2. Feature Engineering**"
      ],
      "metadata": {
        "id": "jPRzgP2hrVXN"
      }
    },
    {
      "cell_type": "markdown",
      "source": [
        "### 2.A Feature Selection"
      ],
      "metadata": {
        "id": "J5CtI0wKsUCP"
      }
    },
    {
      "cell_type": "code",
      "source": [
        "#Membuat Correlation Heatmap\n",
        "\n",
        "#Correlation Matrix\n",
        "corr_matrix = df.corr()\n",
        "\n",
        "#Heatmap\n",
        "plt.figure(figsize=(8,8))\n",
        "sns.heatmap(df.corr(), cmap='Blues', annot=True, fmt='.2f')\n",
        "plt.title(\"Correlation Heatmap\")\n",
        "plt.show()"
      ],
      "metadata": {
        "id": "CL6Th7norbxd",
        "colab": {
          "base_uri": "https://localhost:8080/",
          "height": 910
        },
        "outputId": "2ea2ffad-4f07-4c36-d1c0-ae3322207453"
      },
      "execution_count": null,
      "outputs": [
        {
          "output_type": "stream",
          "name": "stderr",
          "text": [
            "<ipython-input-45-bdce95b02808>:4: FutureWarning: The default value of numeric_only in DataFrame.corr is deprecated. In a future version, it will default to False. Select only valid columns or specify the value of numeric_only to silence this warning.\n",
            "  corr_matrix = df.corr()\n",
            "<ipython-input-45-bdce95b02808>:8: FutureWarning: The default value of numeric_only in DataFrame.corr is deprecated. In a future version, it will default to False. Select only valid columns or specify the value of numeric_only to silence this warning.\n",
            "  sns.heatmap(df.corr(), cmap='Blues', annot=True, fmt='.2f')\n"
          ]
        },
        {
          "output_type": "display_data",
          "data": {
            "text/plain": [
              "<Figure size 800x800 with 2 Axes>"
            ],
            "image/png": "[encoded data removed]"
          },
          "metadata": {}
        }
      ]
    },
    {
      "cell_type": "markdown",
      "source": [
        "Berdasarkan scatterplot yang telah dilakukan pada stage sebelumnya, terlihat bahwa terdapat beberapa feature yang memiliki korelasi yang kuat sehingga perlu dipilih salah satu feature saja yang bisa dilakukan analisis.\n",
        "Feature yang memiliki korelasi yang kuat diantaranya adalah :\n",
        "*  CretaeJob dan RetainedJob\n",
        "*  DisbursementGross dan GrAppv\n",
        "*  DisbursementGross dan SBA_Appv\n",
        "*  GrAppv dan SBA_Appv\n",
        "\n",
        "\n"
      ],
      "metadata": {
        "id": "EKnRXPviXMZo"
      }
    },
    {
      "cell_type": "markdown",
      "source": [
        "### 2.B Feature Extraction"
      ],
      "metadata": {
        "id": "dK594qOOsef_"
      }
    },
    {
      "cell_type": "code",
      "source": [
        "def segment(x):\n",
        "    if x['UrbanRural'] <= 0 :\n",
        "        segment = 'Undefined'\n",
        "    elif x['UrbanRural'] <= 1\t:\n",
        "        segment = 'urban'\n",
        "    else :\n",
        "        segment = 'rural'\n",
        "    return segment"
      ],
      "metadata": {
        "id": "qum2axlMQVsu"
      },
      "execution_count": null,
      "outputs": []
    },
    {
      "cell_type": "code",
      "source": [
        "df['UrbanRural_new'] = df.apply(lambda x: segment(x), axis = 1)\n",
        "df.head()"
      ],
      "metadata": {
        "colab": {
          "base_uri": "https://localhost:8080/",
          "height": 543
        },
        "id": "E3kYjczWRHvw",
        "outputId": "92d40a4b-0fb1-40fe-86ab-b4982577c12e"
      },
      "execution_count": null,
      "outputs": [
        {
          "output_type": "execute_result",
          "data": {
            "text/plain": [
              "  LoanNr_ChkDgt                           Name          City State    Zip  \\\n",
              "0    1000014003                 ABC HOBBYCRAFT    EVANSVILLE    IN  47711   \n",
              "1    1000024006    LANDMARK BAR & GRILLE (THE)     NEW PARIS    IN  46526   \n",
              "2    1000034009          WHITLOCK DDS, TODD M.   BLOOMINGTON    IN  47401   \n",
              "3    1000044001  BIG BUCKS PAWN & JEWELRY, LLC  BROKEN ARROW    OK  74012   \n",
              "4    1000054004    ANASTASIA CONFECTIONS, INC.       ORLANDO    FL  32801   \n",
              "\n",
              "                            Bank BankState   NAICS ApprovalDate  ApprovalFY  \\\n",
              "0               FIFTH THIRD BANK        OH  451120   1997-02-28        1997   \n",
              "1                1ST SOURCE BANK        IN  722410   1997-02-28        1997   \n",
              "2        GRANT COUNTY STATE BANK        IN  621210   1997-02-28        1997   \n",
              "3  1ST NATL BK & TR CO OF BROKEN        OK       0   1997-02-28        1997   \n",
              "4        FLORIDA BUS. DEVEL CORP        FL       0   1997-02-28        1997   \n",
              "\n",
              "   ...  RevLineCr  LowDoc DisbursementDate  DisbursementGross  BalanceGross  \\\n",
              "0  ...          N       Y       1999-02-28            60000.0           0.0   \n",
              "1  ...          N       Y       1997-05-31            40000.0           0.0   \n",
              "2  ...          N       N       1997-12-31           287000.0           0.0   \n",
              "3  ...          N       Y       1997-06-30            35000.0           0.0   \n",
              "4  ...          N       N       1997-05-14           229000.0           0.0   \n",
              "\n",
              "  MIS_Status ChgOffPrinGr    GrAppv  SBA_Appv UrbanRural_new  \n",
              "0      P I F          0.0   60000.0   48000.0      Undefined  \n",
              "1      P I F          0.0   40000.0   32000.0      Undefined  \n",
              "2      P I F          0.0  287000.0  215250.0      Undefined  \n",
              "3      P I F          0.0   35000.0   28000.0      Undefined  \n",
              "4      P I F          0.0  229000.0  229000.0      Undefined  \n",
              "\n",
              "[5 rows x 27 columns]"
            ],
            "text/html": [
              "\n",
              "  <div id=\"df-fd1fe342-2803-4a5c-8c70-5a2d0e67d38c\">\n",
              "    <div class=\"colab-df-container\">\n",
              "      <div>\n",
              "<style scoped>\n",
              "    .dataframe tbody tr th:only-of-type {\n",
              "        vertical-align: middle;\n",
              "    }\n",
              "\n",
              "    .dataframe tbody tr th {\n",
              "        vertical-align: top;\n",
              "    }\n",
              "\n",
              "    .dataframe thead th {\n",
              "        text-align: right;\n",
              "    }\n",
              "</style>\n",
              "<table border=\"1\" class=\"dataframe\">\n",
              "  <thead>\n",
              "    <tr style=\"text-align: right;\">\n",
              "      <th></th>\n",
              "      <th>LoanNr_ChkDgt</th>\n",
              "      <th>Name</th>\n",
              "      <th>City</th>\n",
              "      <th>State</th>\n",
              "      <th>Zip</th>\n",
              "      <th>Bank</th>\n",
              "      <th>BankState</th>\n",
              "      <th>NAICS</th>\n",
              "      <th>ApprovalDate</th>\n",
              "      <th>ApprovalFY</th>\n",
              "      <th>...</th>\n",
              "      <th>RevLineCr</th>\n",
              "      <th>LowDoc</th>\n",
              "      <th>DisbursementDate</th>\n",
              "      <th>DisbursementGross</th>\n",
              "      <th>BalanceGross</th>\n",
              "      <th>MIS_Status</th>\n",
              "      <th>ChgOffPrinGr</th>\n",
              "      <th>GrAppv</th>\n",
              "      <th>SBA_Appv</th>\n",
              "      <th>UrbanRural_new</th>\n",
              "    </tr>\n",
              "  </thead>\n",
              "  <tbody>\n",
              "    <tr>\n",
              "      <th>0</th>\n",
              "      <td>1000014003</td>\n",
              "      <td>ABC HOBBYCRAFT</td>\n",
              "      <td>EVANSVILLE</td>\n",
              "      <td>IN</td>\n",
              "      <td>47711</td>\n",
              "      <td>FIFTH THIRD BANK</td>\n",
              "      <td>OH</td>\n",
              "      <td>451120</td>\n",
              "      <td>1997-02-28</td>\n",
              "      <td>1997</td>\n",
              "      <td>...</td>\n",
              "      <td>N</td>\n",
              "      <td>Y</td>\n",
              "      <td>1999-02-28</td>\n",
              "      <td>60000.0</td>\n",
              "      <td>0.0</td>\n",
              "      <td>P I F</td>\n",
              "      <td>0.0</td>\n",
              "      <td>60000.0</td>\n",
              "      <td>48000.0</td>\n",
              "      <td>Undefined</td>\n",
              "    </tr>\n",
              "    <tr>\n",
              "      <th>1</th>\n",
              "      <td>1000024006</td>\n",
              "      <td>LANDMARK BAR &amp; GRILLE (THE)</td>\n",
              "      <td>NEW PARIS</td>\n",
              "      <td>IN</td>\n",
              "      <td>46526</td>\n",
              "      <td>1ST SOURCE BANK</td>\n",
              "      <td>IN</td>\n",
              "      <td>722410</td>\n",
              "      <td>1997-02-28</td>\n",
              "      <td>1997</td>\n",
              "      <td>...</td>\n",
              "      <td>N</td>\n",
              "      <td>Y</td>\n",
              "      <td>1997-05-31</td>\n",
              "      <td>40000.0</td>\n",
              "      <td>0.0</td>\n",
              "      <td>P I F</td>\n",
              "      <td>0.0</td>\n",
              "      <td>40000.0</td>\n",
              "      <td>32000.0</td>\n",
              "      <td>Undefined</td>\n",
              "    </tr>\n",
              "    <tr>\n",
              "      <th>2</th>\n",
              "      <td>1000034009</td>\n",
              "      <td>WHITLOCK DDS, TODD M.</td>\n",
              "      <td>BLOOMINGTON</td>\n",
              "      <td>IN</td>\n",
              "      <td>47401</td>\n",
              "      <td>GRANT COUNTY STATE BANK</td>\n",
              "      <td>IN</td>\n",
              "      <td>621210</td>\n",
              "      <td>1997-02-28</td>\n",
              "      <td>1997</td>\n",
              "      <td>...</td>\n",
              "      <td>N</td>\n",
              "      <td>N</td>\n",
              "      <td>1997-12-31</td>\n",
              "      <td>287000.0</td>\n",
              "      <td>0.0</td>\n",
              "      <td>P I F</td>\n",
              "      <td>0.0</td>\n",
              "      <td>287000.0</td>\n",
              "      <td>215250.0</td>\n",
              "      <td>Undefined</td>\n",
              "    </tr>\n",
              "    <tr>\n",
              "      <th>3</th>\n",
              "      <td>1000044001</td>\n",
              "      <td>BIG BUCKS PAWN &amp; JEWELRY, LLC</td>\n",
              "      <td>BROKEN ARROW</td>\n",
              "      <td>OK</td>\n",
              "      <td>74012</td>\n",
              "      <td>1ST NATL BK &amp; TR CO OF BROKEN</td>\n",
              "      <td>OK</td>\n",
              "      <td>0</td>\n",
              "      <td>1997-02-28</td>\n",
              "      <td>1997</td>\n",
              "      <td>...</td>\n",
              "      <td>N</td>\n",
              "      <td>Y</td>\n",
              "      <td>1997-06-30</td>\n",
              "      <td>35000.0</td>\n",
              "      <td>0.0</td>\n",
              "      <td>P I F</td>\n",
              "      <td>0.0</td>\n",
              "      <td>35000.0</td>\n",
              "      <td>28000.0</td>\n",
              "      <td>Undefined</td>\n",
              "    </tr>\n",
              "    <tr>\n",
              "      <th>4</th>\n",
              "      <td>1000054004</td>\n",
              "      <td>ANASTASIA CONFECTIONS, INC.</td>\n",
              "      <td>ORLANDO</td>\n",
              "      <td>FL</td>\n",
              "      <td>32801</td>\n",
              "      <td>FLORIDA BUS. DEVEL CORP</td>\n",
              "      <td>FL</td>\n",
              "      <td>0</td>\n",
              "      <td>1997-02-28</td>\n",
              "      <td>1997</td>\n",
              "      <td>...</td>\n",
              "      <td>N</td>\n",
              "      <td>N</td>\n",
              "      <td>1997-05-14</td>\n",
              "      <td>229000.0</td>\n",
              "      <td>0.0</td>\n",
              "      <td>P I F</td>\n",
              "      <td>0.0</td>\n",
              "      <td>229000.0</td>\n",
              "      <td>229000.0</td>\n",
              "      <td>Undefined</td>\n",
              "    </tr>\n",
              "  </tbody>\n",
              "</table>\n",
              "<p>5 rows × 27 columns</p>\n",
              "</div>\n",
              "      <button class=\"colab-df-convert\" onclick=\"convertToInteractive('df-fd1fe342-2803-4a5c-8c70-5a2d0e67d38c')\"\n",
              "              title=\"Convert this dataframe to an interactive table.\"\n",
              "              style=\"display:none;\">\n",
              "        \n",
              "  <svg xmlns=\"http://www.w3.org/2000/svg\" height=\"24px\"viewBox=\"0 0 24 24\"\n",
              "       width=\"24px\">\n",
              "    <path d=\"M0 0h24v24H0V0z\" fill=\"none\"/>\n",
              "    <path d=\"M18.56 5.44l.94 2.06.94-2.06 2.06-.94-2.06-.94-.94-2.06-.94 2.06-2.06.94zm-11 1L8.5 8.5l.94-2.06 2.06-.94-2.06-.94L8.5 2.5l-.94 2.06-2.06.94zm10 10l.94 2.06.94-2.06 2.06-.94-2.06-.94-.94-2.06-.94 2.06-2.06.94z\"/><path d=\"M17.41 7.96l-1.37-1.37c-.4-.4-.92-.59-1.43-.59-.52 0-1.04.2-1.43.59L10.3 9.45l-7.72 7.72c-.78.78-.78 2.05 0 2.83L4 21.41c.39.39.9.59 1.41.59.51 0 1.02-.2 1.41-.59l7.78-7.78 2.81-2.81c.8-.78.8-2.07 0-2.86zM5.41 20L4 18.59l7.72-7.72 1.47 1.35L5.41 20z\"/>\n",
              "  </svg>\n",
              "      </button>\n",
              "      \n",
              "  <style>\n",
              "    .colab-df-container {\n",
              "      display:flex;\n",
              "      flex-wrap:wrap;\n",
              "      gap: 12px;\n",
              "    }\n",
              "\n",
              "    .colab-df-convert {\n",
              "      background-color: #E8F0FE;\n",
              "      border: none;\n",
              "      border-radius: 50%;\n",
              "      cursor: pointer;\n",
              "      display: none;\n",
              "      fill: #1967D2;\n",
              "      height: 32px;\n",
              "      padding: 0 0 0 0;\n",
              "      width: 32px;\n",
              "    }\n",
              "\n",
              "    .colab-df-convert:hover {\n",
              "      background-color: #E2EBFA;\n",
              "      box-shadow: 0px 1px 2px rgba(60, 64, 67, 0.3), 0px 1px 3px 1px rgba(60, 64, 67, 0.15);\n",
              "      fill: #174EA6;\n",
              "    }\n",
              "\n",
              "    [theme=dark] .colab-df-convert {\n",
              "      background-color: #3B4455;\n",
              "      fill: #D2E3FC;\n",
              "    }\n",
              "\n",
              "    [theme=dark] .colab-df-convert:hover {\n",
              "      background-color: #434B5C;\n",
              "      box-shadow: 0px 1px 3px 1px rgba(0, 0, 0, 0.15);\n",
              "      filter: drop-shadow(0px 1px 2px rgba(0, 0, 0, 0.3));\n",
              "      fill: #FFFFFF;\n",
              "    }\n",
              "  </style>\n",
              "\n",
              "      <script>\n",
              "        const buttonEl =\n",
              "          document.querySelector('#df-fd1fe342-2803-4a5c-8c70-5a2d0e67d38c button.colab-df-convert');\n",
              "        buttonEl.style.display =\n",
              "          google.colab.kernel.accessAllowed ? 'block' : 'none';\n",
              "\n",
              "        async function convertToInteractive(key) {\n",
              "          const element = document.querySelector('#df-fd1fe342-2803-4a5c-8c70-5a2d0e67d38c');\n",
              "          const dataTable =\n",
              "            await google.colab.kernel.invokeFunction('convertToInteractive',\n",
              "                                                     [key], {});\n",
              "          if (!dataTable) return;\n",
              "\n",
              "          const docLinkHtml = 'Like what you see? Visit the ' +\n",
              "            '<a target=\"_blank\" href=https://colab.research.google.com/notebooks/data_table.ipynb>data table notebook</a>'\n",
              "            + ' to learn more about interactive tables.';\n",
              "          element.innerHTML = '';\n",
              "          dataTable['output_type'] = 'display_data';\n",
              "          await google.colab.output.renderOutput(dataTable, element);\n",
              "          const docLink = document.createElement('div');\n",
              "          docLink.innerHTML = docLinkHtml;\n",
              "          element.appendChild(docLink);\n",
              "        }\n",
              "      </script>\n",
              "    </div>\n",
              "  </div>\n",
              "  "
            ]
          },
          "metadata": {},
          "execution_count": 47
        }
      ]
    },
    {
      "cell_type": "markdown",
      "source": [
        "**Segmentasi Gross Approve menjadi low, mid, high**"
      ],
      "metadata": {
        "id": "mv4pD5H-fBac"
      }
    },
    {
      "cell_type": "code",
      "source": [
        "#Mencari nilai minimal Gr Appv\n",
        "min = df['GrAppv'].min()\n",
        "print(min)"
      ],
      "metadata": {
        "id": "SqGDnYpP3Aoj"
      },
      "execution_count": null,
      "outputs": []
    },
    {
      "cell_type": "code",
      "source": [
        "#Mencari nilai minimal Gr Appv\n",
        "max = df['GrAppv'].max()\n",
        "print(max)"
      ],
      "metadata": {
        "colab": {
          "base_uri": "https://localhost:8080/"
        },
        "id": "7SyeL69jelZy",
        "outputId": "970889b0-cd33-4582-ef2a-13ff9d91be93"
      },
      "execution_count": null,
      "outputs": [
        {
          "output_type": "stream",
          "name": "stdout",
          "text": [
            "nan\n"
          ]
        }
      ]
    },
    {
      "cell_type": "code",
      "source": [
        "#Mencari interval/range\n",
        "range = max-min\n",
        "print(range)"
      ],
      "metadata": {
        "colab": {
          "base_uri": "https://localhost:8080/"
        },
        "id": "yop5xao1eoZw",
        "outputId": "cfddf4c9-4ebe-46e5-c9ef-bb489bea6e18"
      },
      "execution_count": null,
      "outputs": [
        {
          "output_type": "stream",
          "name": "stdout",
          "text": [
            "nan\n"
          ]
        }
      ]
    },
    {
      "cell_type": "code",
      "source": [
        "#Panjang kelas\n",
        "range/3"
      ],
      "metadata": {
        "id": "QxnF8zsxetxx"
      },
      "execution_count": null,
      "outputs": []
    },
    {
      "cell_type": "code",
      "source": [
        "def gr_class(x):\n",
        "    if x['GrAppv'] <= 5 :\n",
        "        gr_class = 'low'\n",
        "    elif x['GrAppv'] <= 12\t:\n",
        "        gr_class = 'mid'\n",
        "    else :\n",
        "        gr_class = 'high'\n",
        "    return gr_class"
      ],
      "metadata": {
        "id": "v-2asEeQd1_y"
      },
      "execution_count": null,
      "outputs": []
    },
    {
      "cell_type": "code",
      "source": [
        "df['GrAppv_Class'] = df.apply(lambda x: gr_class(x), axis = 1)\n",
        "df.head()"
      ],
      "metadata": {
        "id": "SuF0K-pGd4O7"
      },
      "execution_count": null,
      "outputs": []
    },
    {
      "cell_type": "markdown",
      "source": [
        "**Segmentasi SBA Approve menjadi low, mid, high**"
      ],
      "metadata": {
        "id": "At-kwMGkfKv-"
      }
    },
    {
      "cell_type": "code",
      "source": [
        "#Mencari nilai minimal SBA Appv\n",
        "min = df['SBA_Appv'].min()\n",
        "print(min)"
      ],
      "metadata": {
        "id": "lbeeVTu5fPn9"
      },
      "execution_count": null,
      "outputs": []
    },
    {
      "cell_type": "code",
      "source": [
        "#Mencari nilai maksimal SBA Appv\n",
        "max = df['SBA_Appv'].max()\n",
        "print(max)"
      ],
      "metadata": {
        "id": "x-j-WC-LghTp"
      },
      "execution_count": null,
      "outputs": []
    },
    {
      "cell_type": "code",
      "source": [
        "#Interval\n",
        "range = max - min\n",
        "print(range)"
      ],
      "metadata": {
        "id": "8RTInY33gkZ0"
      },
      "execution_count": null,
      "outputs": []
    },
    {
      "cell_type": "code",
      "source": [
        "#Panjang kelas SBA Appv\n",
        "range/3"
      ],
      "metadata": {
        "id": "dllF_6eBgmQt"
      },
      "execution_count": null,
      "outputs": []
    },
    {
      "cell_type": "code",
      "source": [
        "def sba_class(x):\n",
        "    if x['SBA_Appv'] <= 6.486 :\n",
        "        sba_class = 'low'\n",
        "    elif x['SBA_Appv'] <= 13.607\t:\n",
        "        sba_class = 'mid'\n",
        "    else :\n",
        "        sba_class = 'high'\n",
        "    return sba_class"
      ],
      "metadata": {
        "id": "HIE57ZKggpPC"
      },
      "execution_count": null,
      "outputs": []
    },
    {
      "cell_type": "code",
      "source": [
        "df['SBAAppv_Class'] = df.apply(lambda x: sba_class(x), axis = 1)\n",
        "df.head()"
      ],
      "metadata": {
        "id": "T1J2DDm4gtmd"
      },
      "execution_count": null,
      "outputs": []
    },
    {
      "cell_type": "markdown",
      "source": [
        "**Segmentasi NAICS Industry untuk mengetahui level risiko industrinya**"
      ],
      "metadata": {
        "id": "wPNWgkqlno1Z"
      }
    },
    {
      "cell_type": "code",
      "source": [
        "#Mengubah tipe data NAICS menjadi string\n",
        "df['NAICS'] = df['NAICS'].astype(str)"
      ],
      "metadata": {
        "id": "o-DvrO0Yrnx6"
      },
      "execution_count": null,
      "outputs": []
    },
    {
      "cell_type": "code",
      "source": [
        "#Slicing 2 digit pertama dari feature NAICS yang menandakan jenis industri\n",
        "df['NAICS'] = df['NAICS'].str[:2]\n",
        "df.head()"
      ],
      "metadata": {
        "colab": {
          "base_uri": "https://localhost:8080/",
          "height": 143
        },
        "id": "jfaUXZrbyxLf",
        "outputId": "78dcbd98-1ada-48a9-908a-f93694f8741a"
      },
      "execution_count": null,
      "outputs": [
        {
          "output_type": "execute_result",
          "data": {
            "text/plain": [
              "Empty DataFrame\n",
              "Columns: [LoanNr_ChkDgt, Name, City, State, BankState, NAICS, ApprovalDate, ApprovalFY, Term, NoEmp, NewExist, CreateJob, RetainedJob, UrbanRural, RevLineCr, LowDoc, DisbursementDate, DisbursementGross, BalanceGross, MIS_Status, ChgOffPrinGr, GrAppv, SBA_Appv]\n",
              "Index: []\n",
              "\n",
              "[0 rows x 23 columns]"
            ],
            "text/html": [
              "\n",
              "  <div id=\"df-182afb97-1d52-4af2-b6e2-91809925cedb\">\n",
              "    <div class=\"colab-df-container\">\n",
              "      <div>\n",
              "<style scoped>\n",
              "    .dataframe tbody tr th:only-of-type {\n",
              "        vertical-align: middle;\n",
              "    }\n",
              "\n",
              "    .dataframe tbody tr th {\n",
              "        vertical-align: top;\n",
              "    }\n",
              "\n",
              "    .dataframe thead th {\n",
              "        text-align: right;\n",
              "    }\n",
              "</style>\n",
              "<table border=\"1\" class=\"dataframe\">\n",
              "  <thead>\n",
              "    <tr style=\"text-align: right;\">\n",
              "      <th></th>\n",
              "      <th>LoanNr_ChkDgt</th>\n",
              "      <th>Name</th>\n",
              "      <th>City</th>\n",
              "      <th>State</th>\n",
              "      <th>BankState</th>\n",
              "      <th>NAICS</th>\n",
              "      <th>ApprovalDate</th>\n",
              "      <th>ApprovalFY</th>\n",
              "      <th>Term</th>\n",
              "      <th>NoEmp</th>\n",
              "      <th>...</th>\n",
              "      <th>UrbanRural</th>\n",
              "      <th>RevLineCr</th>\n",
              "      <th>LowDoc</th>\n",
              "      <th>DisbursementDate</th>\n",
              "      <th>DisbursementGross</th>\n",
              "      <th>BalanceGross</th>\n",
              "      <th>MIS_Status</th>\n",
              "      <th>ChgOffPrinGr</th>\n",
              "      <th>GrAppv</th>\n",
              "      <th>SBA_Appv</th>\n",
              "    </tr>\n",
              "  </thead>\n",
              "  <tbody>\n",
              "  </tbody>\n",
              "</table>\n",
              "<p>0 rows × 23 columns</p>\n",
              "</div>\n",
              "      <button class=\"colab-df-convert\" onclick=\"convertToInteractive('df-182afb97-1d52-4af2-b6e2-91809925cedb')\"\n",
              "              title=\"Convert this dataframe to an interactive table.\"\n",
              "              style=\"display:none;\">\n",
              "        \n",
              "  <svg xmlns=\"http://www.w3.org/2000/svg\" height=\"24px\"viewBox=\"0 0 24 24\"\n",
              "       width=\"24px\">\n",
              "    <path d=\"M0 0h24v24H0V0z\" fill=\"none\"/>\n",
              "    <path d=\"M18.56 5.44l.94 2.06.94-2.06 2.06-.94-2.06-.94-.94-2.06-.94 2.06-2.06.94zm-11 1L8.5 8.5l.94-2.06 2.06-.94-2.06-.94L8.5 2.5l-.94 2.06-2.06.94zm10 10l.94 2.06.94-2.06 2.06-.94-2.06-.94-.94-2.06-.94 2.06-2.06.94z\"/><path d=\"M17.41 7.96l-1.37-1.37c-.4-.4-.92-.59-1.43-.59-.52 0-1.04.2-1.43.59L10.3 9.45l-7.72 7.72c-.78.78-.78 2.05 0 2.83L4 21.41c.39.39.9.59 1.41.59.51 0 1.02-.2 1.41-.59l7.78-7.78 2.81-2.81c.8-.78.8-2.07 0-2.86zM5.41 20L4 18.59l7.72-7.72 1.47 1.35L5.41 20z\"/>\n",
              "  </svg>\n",
              "      </button>\n",
              "      \n",
              "  <style>\n",
              "    .colab-df-container {\n",
              "      display:flex;\n",
              "      flex-wrap:wrap;\n",
              "      gap: 12px;\n",
              "    }\n",
              "\n",
              "    .colab-df-convert {\n",
              "      background-color: #E8F0FE;\n",
              "      border: none;\n",
              "      border-radius: 50%;\n",
              "      cursor: pointer;\n",
              "      display: none;\n",
              "      fill: #1967D2;\n",
              "      height: 32px;\n",
              "      padding: 0 0 0 0;\n",
              "      width: 32px;\n",
              "    }\n",
              "\n",
              "    .colab-df-convert:hover {\n",
              "      background-color: #E2EBFA;\n",
              "      box-shadow: 0px 1px 2px rgba(60, 64, 67, 0.3), 0px 1px 3px 1px rgba(60, 64, 67, 0.15);\n",
              "      fill: #174EA6;\n",
              "    }\n",
              "\n",
              "    [theme=dark] .colab-df-convert {\n",
              "      background-color: #3B4455;\n",
              "      fill: #D2E3FC;\n",
              "    }\n",
              "\n",
              "    [theme=dark] .colab-df-convert:hover {\n",
              "      background-color: #434B5C;\n",
              "      box-shadow: 0px 1px 3px 1px rgba(0, 0, 0, 0.15);\n",
              "      filter: drop-shadow(0px 1px 2px rgba(0, 0, 0, 0.3));\n",
              "      fill: #FFFFFF;\n",
              "    }\n",
              "  </style>\n",
              "\n",
              "      <script>\n",
              "        const buttonEl =\n",
              "          document.querySelector('#df-182afb97-1d52-4af2-b6e2-91809925cedb button.colab-df-convert');\n",
              "        buttonEl.style.display =\n",
              "          google.colab.kernel.accessAllowed ? 'block' : 'none';\n",
              "\n",
              "        async function convertToInteractive(key) {\n",
              "          const element = document.querySelector('#df-182afb97-1d52-4af2-b6e2-91809925cedb');\n",
              "          const dataTable =\n",
              "            await google.colab.kernel.invokeFunction('convertToInteractive',\n",
              "                                                     [key], {});\n",
              "          if (!dataTable) return;\n",
              "\n",
              "          const docLinkHtml = 'Like what you see? Visit the ' +\n",
              "            '<a target=\"_blank\" href=https://colab.research.google.com/notebooks/data_table.ipynb>data table notebook</a>'\n",
              "            + ' to learn more about interactive tables.';\n",
              "          element.innerHTML = '';\n",
              "          dataTable['output_type'] = 'display_data';\n",
              "          await google.colab.output.renderOutput(dataTable, element);\n",
              "          const docLink = document.createElement('div');\n",
              "          docLink.innerHTML = docLinkHtml;\n",
              "          element.appendChild(docLink);\n",
              "        }\n",
              "      </script>\n",
              "    </div>\n",
              "  </div>\n",
              "  "
            ]
          },
          "metadata": {},
          "execution_count": 59
        }
      ]
    },
    {
      "cell_type": "code",
      "source": [
        "#Mengubah tipe data NAICS kembali menjadi integer\n",
        "df['NAICS'] = df['NAICS'].astype(int)"
      ],
      "metadata": {
        "id": "WAnem4hp2dsY"
      },
      "execution_count": null,
      "outputs": []
    },
    {
      "cell_type": "code",
      "source": [
        "def risk(x):\n",
        "    if 45 <= x['NAICS'] <= 46 :\n",
        "        risk = 'high'\n",
        "    elif 48 <= x['NAICS'] <= 49 :\n",
        "        risk = 'high'\n",
        "    elif x['NAICS'] == 56 :\n",
        "        risk = 'high'\n",
        "    else :\n",
        "        risk = 'low'\n",
        "    return risk"
      ],
      "metadata": {
        "id": "Hob-cRSG2Zd_"
      },
      "execution_count": null,
      "outputs": []
    },
    {
      "cell_type": "code",
      "source": [
        "df['IndustryRisk'] = df.apply(lambda x: risk(x), axis=1)\n",
        "df.head()"
      ],
      "metadata": {
        "colab": {
          "base_uri": "https://localhost:8080/",
          "height": 143
        },
        "id": "P9I9G1srrsbV",
        "outputId": "918c6420-6d48-4d0b-b14d-744504ad9a2f"
      },
      "execution_count": null,
      "outputs": [
        {
          "output_type": "execute_result",
          "data": {
            "text/plain": [
              "Empty DataFrame\n",
              "Columns: [LoanNr_ChkDgt, Name, City, State, BankState, NAICS, ApprovalDate, ApprovalFY, Term, NoEmp, NewExist, CreateJob, RetainedJob, UrbanRural, RevLineCr, LowDoc, DisbursementDate, DisbursementGross, BalanceGross, MIS_Status, ChgOffPrinGr, GrAppv, SBA_Appv, IndustryRisk]\n",
              "Index: []\n",
              "\n",
              "[0 rows x 24 columns]"
            ],
            "text/html": [
              "\n",
              "  <div id=\"df-88f48a63-e377-4e04-8f86-846c06d0901c\">\n",
              "    <div class=\"colab-df-container\">\n",
              "      <div>\n",
              "<style scoped>\n",
              "    .dataframe tbody tr th:only-of-type {\n",
              "        vertical-align: middle;\n",
              "    }\n",
              "\n",
              "    .dataframe tbody tr th {\n",
              "        vertical-align: top;\n",
              "    }\n",
              "\n",
              "    .dataframe thead th {\n",
              "        text-align: right;\n",
              "    }\n",
              "</style>\n",
              "<table border=\"1\" class=\"dataframe\">\n",
              "  <thead>\n",
              "    <tr style=\"text-align: right;\">\n",
              "      <th></th>\n",
              "      <th>LoanNr_ChkDgt</th>\n",
              "      <th>Name</th>\n",
              "      <th>City</th>\n",
              "      <th>State</th>\n",
              "      <th>BankState</th>\n",
              "      <th>NAICS</th>\n",
              "      <th>ApprovalDate</th>\n",
              "      <th>ApprovalFY</th>\n",
              "      <th>Term</th>\n",
              "      <th>NoEmp</th>\n",
              "      <th>...</th>\n",
              "      <th>RevLineCr</th>\n",
              "      <th>LowDoc</th>\n",
              "      <th>DisbursementDate</th>\n",
              "      <th>DisbursementGross</th>\n",
              "      <th>BalanceGross</th>\n",
              "      <th>MIS_Status</th>\n",
              "      <th>ChgOffPrinGr</th>\n",
              "      <th>GrAppv</th>\n",
              "      <th>SBA_Appv</th>\n",
              "      <th>IndustryRisk</th>\n",
              "    </tr>\n",
              "  </thead>\n",
              "  <tbody>\n",
              "  </tbody>\n",
              "</table>\n",
              "<p>0 rows × 24 columns</p>\n",
              "</div>\n",
              "      <button class=\"colab-df-convert\" onclick=\"convertToInteractive('df-88f48a63-e377-4e04-8f86-846c06d0901c')\"\n",
              "              title=\"Convert this dataframe to an interactive table.\"\n",
              "              style=\"display:none;\">\n",
              "        \n",
              "  <svg xmlns=\"http://www.w3.org/2000/svg\" height=\"24px\"viewBox=\"0 0 24 24\"\n",
              "       width=\"24px\">\n",
              "    <path d=\"M0 0h24v24H0V0z\" fill=\"none\"/>\n",
              "    <path d=\"M18.56 5.44l.94 2.06.94-2.06 2.06-.94-2.06-.94-.94-2.06-.94 2.06-2.06.94zm-11 1L8.5 8.5l.94-2.06 2.06-.94-2.06-.94L8.5 2.5l-.94 2.06-2.06.94zm10 10l.94 2.06.94-2.06 2.06-.94-2.06-.94-.94-2.06-.94 2.06-2.06.94z\"/><path d=\"M17.41 7.96l-1.37-1.37c-.4-.4-.92-.59-1.43-.59-.52 0-1.04.2-1.43.59L10.3 9.45l-7.72 7.72c-.78.78-.78 2.05 0 2.83L4 21.41c.39.39.9.59 1.41.59.51 0 1.02-.2 1.41-.59l7.78-7.78 2.81-2.81c.8-.78.8-2.07 0-2.86zM5.41 20L4 18.59l7.72-7.72 1.47 1.35L5.41 20z\"/>\n",
              "  </svg>\n",
              "      </button>\n",
              "      \n",
              "  <style>\n",
              "    .colab-df-container {\n",
              "      display:flex;\n",
              "      flex-wrap:wrap;\n",
              "      gap: 12px;\n",
              "    }\n",
              "\n",
              "    .colab-df-convert {\n",
              "      background-color: #E8F0FE;\n",
              "      border: none;\n",
              "      border-radius: 50%;\n",
              "      cursor: pointer;\n",
              "      display: none;\n",
              "      fill: #1967D2;\n",
              "      height: 32px;\n",
              "      padding: 0 0 0 0;\n",
              "      width: 32px;\n",
              "    }\n",
              "\n",
              "    .colab-df-convert:hover {\n",
              "      background-color: #E2EBFA;\n",
              "      box-shadow: 0px 1px 2px rgba(60, 64, 67, 0.3), 0px 1px 3px 1px rgba(60, 64, 67, 0.15);\n",
              "      fill: #174EA6;\n",
              "    }\n",
              "\n",
              "    [theme=dark] .colab-df-convert {\n",
              "      background-color: #3B4455;\n",
              "      fill: #D2E3FC;\n",
              "    }\n",
              "\n",
              "    [theme=dark] .colab-df-convert:hover {\n",
              "      background-color: #434B5C;\n",
              "      box-shadow: 0px 1px 3px 1px rgba(0, 0, 0, 0.15);\n",
              "      filter: drop-shadow(0px 1px 2px rgba(0, 0, 0, 0.3));\n",
              "      fill: #FFFFFF;\n",
              "    }\n",
              "  </style>\n",
              "\n",
              "      <script>\n",
              "        const buttonEl =\n",
              "          document.querySelector('#df-88f48a63-e377-4e04-8f86-846c06d0901c button.colab-df-convert');\n",
              "        buttonEl.style.display =\n",
              "          google.colab.kernel.accessAllowed ? 'block' : 'none';\n",
              "\n",
              "        async function convertToInteractive(key) {\n",
              "          const element = document.querySelector('#df-88f48a63-e377-4e04-8f86-846c06d0901c');\n",
              "          const dataTable =\n",
              "            await google.colab.kernel.invokeFunction('convertToInteractive',\n",
              "                                                     [key], {});\n",
              "          if (!dataTable) return;\n",
              "\n",
              "          const docLinkHtml = 'Like what you see? Visit the ' +\n",
              "            '<a target=\"_blank\" href=https://colab.research.google.com/notebooks/data_table.ipynb>data table notebook</a>'\n",
              "            + ' to learn more about interactive tables.';\n",
              "          element.innerHTML = '';\n",
              "          dataTable['output_type'] = 'display_data';\n",
              "          await google.colab.output.renderOutput(dataTable, element);\n",
              "          const docLink = document.createElement('div');\n",
              "          docLink.innerHTML = docLinkHtml;\n",
              "          element.appendChild(docLink);\n",
              "        }\n",
              "      </script>\n",
              "    </div>\n",
              "  </div>\n",
              "  "
            ]
          },
          "metadata": {},
          "execution_count": 62
        }
      ]
    },
    {
      "cell_type": "markdown",
      "source": [
        "### 2.C Feature Tambahan <br>\n",
        "Feature tambahan yang mungkin akan sangat membantu membuat performansi model semakin bagus diantaranya adalah sebagai berikut :\n",
        "1. Feature rata-rata penghasilan per bulan usaha kecil. Feature ini berbentuk numerik yang dapat dijadikan pertimbangan bagi SBA dalam menentukan jaminan. \n",
        "2. Feature rata-rata pengeluaran per bulan usaha kecil. Feature ini berbentuk numerik yang dapat dijadikan pertimbangan bagi SBA dalam menentukan jaminan.\n",
        "3. Feature jenis industri, untuk dilihat dari segi risiko, karena semua industri memiliki risiko masing-masing. Seperti contohnya pada perusahaan pertanian yang memiliki risiko gagal panen, maka dapat diragukan kemampuan membayar pinjamannya. Informasi datanya bisa didaptkan saat peminjaman melampirkan infromasi perusahaannya. Dan untuk menggunakan feature ini, maka SBA harus lebih memerhatikan kondisi yang bisa berhubungan dengan industri peminjam.\n",
        "4. Feature jumlah aset, untuk menilai kelayakan peminjaman uang dan kemampuan membayar kembali pinjaman. Mengetahui jumlah aset dari sebuah perusahaan dapat membantu dalam menilai kelayakan mereka untuk meminjam uang dan membayar kembali pinjaman tersebut.\n",
        "5. Feature riwayat pembayaran tagihan, tagihan bulanan seperti tagihan listrik apakah dibayarkan tepat pada waktunya. Riwayat ini dapat mencerminkan stabilitas bisnis dan potensi penghasilan perusahaan di masa depan, yang bisa digunakan untuk memproyeksi apakah peminjam mampu membayar pinjamannya. Untuk mendapatkan data ini, maka peminjam harus melampirkan rekap pembayaran transaksi yang nantinya bisa diubah ke data atau segmentasi data yang diperlukan."
      ],
      "metadata": {
        "id": "H-ErAbn-slC-"
      }
    },
    {
      "cell_type": "markdown",
      "source": [
        "# **Terima Kasih**"
      ],
      "metadata": {
        "id": "-YeHbOvAsyB0"
      }
    }
  ]
}